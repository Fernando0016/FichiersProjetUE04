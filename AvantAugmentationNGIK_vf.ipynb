{
  "nbformat": 4,
  "nbformat_minor": 0,
  "metadata": {
    "accelerator": "GPU",
    "colab": {
      "name": "AvantAugmentationNGIK_vf.ipynb",
      "provenance": [],
      "collapsed_sections": [],
      "machine_shape": "hm"
    },
    "kernelspec": {
      "display_name": "Python 3",
      "language": "python",
      "name": "python3"
    },
    "language_info": {
      "codemirror_mode": {
        "name": "ipython",
        "version": 3
      },
      "file_extension": ".py",
      "mimetype": "text/x-python",
      "name": "python",
      "nbconvert_exporter": "python",
      "pygments_lexer": "ipython3",
      "version": "3.7.0"
    }
  },
  "cells": [
    {
      "cell_type": "markdown",
      "metadata": {
        "colab_type": "text",
        "id": "vJra3FvDLAJ3"
      },
      "source": [
        "# Classification de données structurées et textuelles\n",
        "\n",
        "  L’objectif de ce travail était d’élaborer plusieurs modèles de deep-learning utilisant les titres et abstracts d’un dataset fourni d’articles issus de *PubMed*, afin de prédire par apprentissage supervisé la catégorie thématique associée à chaque article.\n",
        "\n",
        "  Dans cette partie de notre travail et après récupération de données, nous allons nettoyer et normaliser ces derniers, puis nous utiliserons nos algorithmes d’intelligence artificielle. Dans la deuxième partie (2ème Notebook) nous allons explorer et analyser les données pour montrer l'intérêt de cette étape (Data augmentation).\n"
      ]
    },
    {
      "cell_type": "markdown",
      "metadata": {
        "colab_type": "text",
        "id": "isf35HsjLAJ6"
      },
      "source": [
        "### Import des libraries"
      ]
    },
    {
      "cell_type": "code",
      "metadata": {
        "colab_type": "code",
        "id": "RzNagFmvwqQk",
        "outputId": "37e8c7f4-84b4-4735-839d-ad8545163e17",
        "colab": {
          "base_uri": "https://localhost:8080/",
          "height": 64
        }
      },
      "source": [
        "# Pour assurer la reproductibilité des résultats\n",
        "from numpy.random import seed\n",
        "seed(1)\n",
        "import tensorflow as tf\n",
        "tf.set_random_seed(2)"
      ],
      "execution_count": 0,
      "outputs": [
        {
          "output_type": "display_data",
          "data": {
            "text/html": [
              "<p style=\"color: red;\">\n",
              "The default version of TensorFlow in Colab will soon switch to TensorFlow 2.x.<br>\n",
              "We recommend you <a href=\"https://www.tensorflow.org/guide/migrate\" target=\"_blank\">upgrade</a> now \n",
              "or ensure your notebook will continue to use TensorFlow 1.x via the <code>%tensorflow_version 1.x</code> magic:\n",
              "<a href=\"https://colab.research.google.com/notebooks/tensorflow_version.ipynb\" target=\"_blank\">more info</a>.</p>\n"
            ],
            "text/plain": [
              "<IPython.core.display.HTML object>"
            ]
          },
          "metadata": {
            "tags": []
          }
        }
      ]
    },
    {
      "cell_type": "code",
      "metadata": {
        "colab_type": "code",
        "id": "DgyxSY01LAJ8",
        "outputId": "99dfb33d-e70f-4722-e984-0a403a69dc85",
        "colab": {
          "base_uri": "https://localhost:8080/",
          "height": 34
        }
      },
      "source": [
        "import numpy as np\n",
        "from keras.layers import Conv1D, BatchNormalization, GlobalMaxPooling1D, Embedding, MaxPooling1D, concatenate\n",
        "from keras.layers import Activation, Dense, Dropout, SpatialDropout1D, Flatten, LSTM, Bidirectional, Masking\n",
        "from keras.optimizers import Adam\n",
        "from keras.models import Sequential, Model\n",
        "from keras.preprocessing import sequence\n",
        "from sklearn.model_selection import train_test_split\n",
        "import matplotlib.pyplot as plt\n",
        "import nltk\n",
        "from nltk import sent_tokenize\n",
        "import json, random\n",
        "import pandas as pd\n",
        "from nltk.stem.porter import PorterStemmer\n",
        "import matplotlib as mpl"
      ],
      "execution_count": 0,
      "outputs": [
        {
          "output_type": "stream",
          "text": [
            "Using TensorFlow backend.\n"
          ],
          "name": "stderr"
        }
      ]
    },
    {
      "cell_type": "code",
      "metadata": {
        "colab_type": "code",
        "id": "T525uaqPy_Gy",
        "colab": {}
      },
      "source": [
        "# Les chemins d'accès\n",
        "ai_pub_samp_path = \"/content/drive/My Drive/keras/ai_pub_samp.json\"\n",
        "stop_words_path = \"/content/drive/My Drive/keras/stopwords.txt\"\n",
        "glove_300d_path = \"/content/drive/My Drive/keras/glove.6B.300d.txt\""
      ],
      "execution_count": 0,
      "outputs": []
    },
    {
      "cell_type": "markdown",
      "metadata": {
        "colab_type": "text",
        "id": "cTlSEylXaieO"
      },
      "source": [
        "### Lien vers le drive"
      ]
    },
    {
      "cell_type": "code",
      "metadata": {
        "colab_type": "code",
        "id": "kahZuGe1MZ45",
        "outputId": "c94bd52c-5300-4805-d0e8-3cee3ecb5bbb",
        "colab": {
          "base_uri": "https://localhost:8080/",
          "height": 124
        }
      },
      "source": [
        "from google.colab import drive\n",
        "\n",
        "# autorisation avec un code\n",
        "drive.mount('/content/drive')"
      ],
      "execution_count": 0,
      "outputs": [
        {
          "output_type": "stream",
          "text": [
            "Go to this URL in a browser: https://accounts.google.com/o/oauth2/auth?client_id=947318989803-6bn6qk8qdgf4n4g3pfee6491hc0brc4i.apps.googleusercontent.com&redirect_uri=urn%3aietf%3awg%3aoauth%3a2.0%3aoob&response_type=code&scope=email%20https%3a%2f%2fwww.googleapis.com%2fauth%2fdocs.test%20https%3a%2f%2fwww.googleapis.com%2fauth%2fdrive%20https%3a%2f%2fwww.googleapis.com%2fauth%2fdrive.photos.readonly%20https%3a%2f%2fwww.googleapis.com%2fauth%2fpeopleapi.readonly\n",
            "\n",
            "Enter your authorization code:\n",
            "··········\n",
            "Mounted at /content/drive\n"
          ],
          "name": "stdout"
        }
      ]
    },
    {
      "cell_type": "markdown",
      "metadata": {
        "colab_type": "text",
        "id": "ZB7QNw2-LAKD"
      },
      "source": [
        "### Chargement des données \n",
        "\n",
        "Toutes les données chargées se situent dans le répertoire `/content/`. \n",
        "Les données sont dans un fichier JSON."
      ]
    },
    {
      "cell_type": "code",
      "metadata": {
        "colab_type": "code",
        "id": "Y20MuFH0LAKE",
        "outputId": "b0d7fb97-eab3-48a1-866e-c75f325927a9",
        "colab": {
          "base_uri": "https://localhost:8080/",
          "height": 34
        }
      },
      "source": [
        "with open(ai_pub_samp_path, 'r') as file:\n",
        "    data_pubmed = json.load(file)\n",
        "print('les données ont été bien chargées')"
      ],
      "execution_count": 0,
      "outputs": [
        {
          "output_type": "stream",
          "text": [
            "les données ont été bien chargées\n"
          ],
          "name": "stdout"
        }
      ]
    },
    {
      "cell_type": "markdown",
      "metadata": {
        "colab_type": "text",
        "id": "I9Ve7YNpLAKI"
      },
      "source": [
        "### Extraire les titres, les abstracts et les catégories thématiques"
      ]
    },
    {
      "cell_type": "code",
      "metadata": {
        "colab_type": "code",
        "id": "5jGoqHtZLAKJ",
        "outputId": "b628599f-c7d5-4ac7-b079-aa15ad0e9323",
        "colab": {
          "base_uri": "https://localhost:8080/",
          "height": 34
        }
      },
      "source": [
        "print(f\" Le dataset contient {len(data_pubmed)} articles scientifiques\")"
      ],
      "execution_count": 0,
      "outputs": [
        {
          "output_type": "stream",
          "text": [
            " Le dataset contient 10000 articles scientifiques\n"
          ],
          "name": "stdout"
        }
      ]
    },
    {
      "cell_type": "code",
      "metadata": {
        "colab_type": "code",
        "id": "pi6NuWYgLAKO",
        "colab": {}
      },
      "source": [
        "# mettre le titre en minuscule dans la variable X1\n",
        "X1 = [index['title'][:-1].lower() for index in data_pubmed] # il ne faut pas prendre le dernier element qui est un point '.'\n",
        "\n",
        "# mettre l'abstract dans la variable X2\n",
        "X2 = [index['abstract'][:-1].lower() for index in data_pubmed] # il ne faut pas prendre le dernier element qui est un point '.'\n",
        "\n",
        "# mettre la catégorie dans la variable Y\n",
        "Y = [index['categories'][0] for index in data_pubmed]"
      ],
      "execution_count": 0,
      "outputs": []
    },
    {
      "cell_type": "markdown",
      "metadata": {
        "colab_type": "text",
        "id": "x83_kLcrLAKT"
      },
      "source": [
        "### Calcul de la longueur maximale des titres et des abstracts dans le dataset"
      ]
    },
    {
      "cell_type": "code",
      "metadata": {
        "colab_type": "code",
        "id": "8HnO0EjALAKW",
        "colab": {}
      },
      "source": [
        "title_max_len_cars = len((max(X1, key=len)))\n",
        "title_max_len_words = len(max(X1, key=len).split())\n",
        "abstract_max_len_cars = len((max(X2, key=len)))\n",
        "abstract_max_len_words = len(max(X2, key=len).split())"
      ],
      "execution_count": 0,
      "outputs": []
    },
    {
      "cell_type": "code",
      "metadata": {
        "colab_type": "code",
        "id": "_xsukTz2I6Xv",
        "outputId": "d68819c0-7897-47b7-897a-12bba4d67d19",
        "colab": {
          "base_uri": "https://localhost:8080/",
          "height": 52
        }
      },
      "source": [
        "print(f'Le nombre max des mots dans un titre est : {title_max_len_words}')\n",
        "print(f'Le nombre max des mots dans un abstract est : {abstract_max_len_words}')"
      ],
      "execution_count": 0,
      "outputs": [
        {
          "output_type": "stream",
          "text": [
            "Le nombre max des mots dans un titre est : 37\n",
            "Le nombre max des mots dans un abstract est : 1495\n"
          ],
          "name": "stdout"
        }
      ]
    },
    {
      "cell_type": "markdown",
      "metadata": {
        "colab_type": "text",
        "id": "15-y1QiyCO-C"
      },
      "source": [
        "### La division de dataset en train (X_train, Y_train) et test (X_test, Y_test)\n",
        "1. Pour les titres\n",
        "2. Pour les abstracts"
      ]
    },
    {
      "cell_type": "code",
      "metadata": {
        "colab_type": "code",
        "id": "HsarKxtiCaMy",
        "colab": {}
      },
      "source": [
        "# utilisation de la fonction train_test_split pour séparer le dataset\n",
        "X_train, X_test, Y_train, Y_test =  train_test_split(pd.DataFrame([X1, X2]).T, Y, test_size = 0.2, random_state = 4)\n",
        "X_train_title, X_train_abstract = list(X_train[0]), list(X_train[1])\n",
        "X_test_title, X_test_abstract = list(X_test[0]), list(X_test[1])"
      ],
      "execution_count": 0,
      "outputs": []
    },
    {
      "cell_type": "markdown",
      "metadata": {
        "colab_type": "text",
        "id": "k9dUpR_-DOrt"
      },
      "source": [
        "### La normalisation des données\n",
        "#### 1. Les catégories\n",
        "\n",
        "Le but est de transformer les textes en une variable numérique\n",
        "\n",
        "texte -> variable numérique\n",
        "\n",
        "\"Biology\" -> 1\n",
        "\n",
        "\"Medical\" -> 2"
      ]
    },
    {
      "cell_type": "code",
      "metadata": {
        "colab_type": "code",
        "id": "1CU8wqs_DL0S",
        "colab": {}
      },
      "source": [
        "# La transformation de la variable Y 'les catégories' en variable numérique\n",
        "cat_to_index={'<UNK>':0}\n",
        "for cat in Y_train:\n",
        "    if cat not in cat_to_index.keys():\n",
        "      cat_to_index[cat]=len(cat_to_index)\n",
        "index_to_cat={v: k for k, v in cat_to_index.items()}\n",
        "\n",
        "def preprocess_Y(Y, cat_to_index):\n",
        "  res = []\n",
        "  for ex in Y:\n",
        "    if ex not in cat_to_index.keys():\n",
        "      res.append(cat_to_index['<UNK>'])\n",
        "    else:\n",
        "      res.append(cat_to_index[ex])\n",
        "  return np.array(res)\n",
        "\n",
        "Y_train_id = preprocess_Y(Y_train, cat_to_index)\n",
        "Y_test_id = preprocess_Y(Y_test, cat_to_index)"
      ],
      "execution_count": 0,
      "outputs": []
    },
    {
      "cell_type": "markdown",
      "metadata": {
        "colab_type": "text",
        "id": "k8dLr_2uEfBa"
      },
      "source": [
        "### 2. Les titres et les abstracts"
      ]
    },
    {
      "cell_type": "markdown",
      "metadata": {
        "colab_type": "text",
        "id": "gm7U7CasNqxG"
      },
      "source": [
        "### A. Première passe de nettoyage : supprimer les stopwords \n",
        "\n",
        "  La première manipulation est la suppression de ce qu'on appelle en anglais les stopwords. Ce sont les mots très courants dans la langue étudiée (\"et\", \"à\", \"le\"... en français) qui n'apportent pas de valeur informative pour la compréhension du \"sens\" d'un document et corpus. Il sont très fréquents et ralentissent notre travail : nous souhaitons donc les supprimer.\n",
        "\n"
      ]
    },
    {
      "cell_type": "code",
      "metadata": {
        "colab_type": "code",
        "id": "S-3IzRUFEdXF",
        "outputId": "2142674e-c273-4e6d-cd87-7b6668036644",
        "colab": {
          "base_uri": "https://localhost:8080/",
          "height": 52
        }
      },
      "source": [
        "import nltk\n",
        "nltk.download('punkt')\n",
        "from nltk.tokenize import word_tokenize\n",
        "with open(stop_words_path, 'r') as file:\n",
        "    stop_words = (file.read()).split()\n",
        "    \n",
        "def remove_stop_words(data, stop_words):\n",
        "  for a in range(len(data)):\n",
        "    word_tokens = word_tokenize(data[a])\n",
        "    data[a] = ' '.join([w for w in word_tokens if not w in stop_words])\n",
        "  return data"
      ],
      "execution_count": 0,
      "outputs": [
        {
          "output_type": "stream",
          "text": [
            "[nltk_data] Downloading package punkt to /root/nltk_data...\n",
            "[nltk_data]   Unzipping tokenizers/punkt.zip.\n"
          ],
          "name": "stdout"
        }
      ]
    },
    {
      "cell_type": "code",
      "metadata": {
        "colab_type": "code",
        "id": "cX2lRJRXKfBp",
        "colab": {}
      },
      "source": [
        "# X_train_title\n",
        "X_train_title = remove_stop_words(X_train_title, stop_words)"
      ],
      "execution_count": 0,
      "outputs": []
    },
    {
      "cell_type": "code",
      "metadata": {
        "colab_type": "code",
        "id": "gSCcTf8EMRUk",
        "colab": {}
      },
      "source": [
        "# X_test_abstract\n",
        "X_train_abstract = remove_stop_words(X_train_abstract, stop_words)"
      ],
      "execution_count": 0,
      "outputs": []
    },
    {
      "cell_type": "code",
      "metadata": {
        "colab_type": "code",
        "id": "-rViKEKuKR7W",
        "colab": {}
      },
      "source": [
        "# X_test_title\n",
        "X_test_title = remove_stop_words(X_test_title, stop_words)"
      ],
      "execution_count": 0,
      "outputs": []
    },
    {
      "cell_type": "code",
      "metadata": {
        "colab_type": "code",
        "id": "ueGFf0oAMYkz",
        "colab": {}
      },
      "source": [
        "# X_test_abstract\n",
        "X_test_abstract = remove_stop_words(X_test_abstract, stop_words)"
      ],
      "execution_count": 0,
      "outputs": []
    },
    {
      "cell_type": "markdown",
      "metadata": {
        "colab_type": "text",
        "id": "A81WwCW8VtKp"
      },
      "source": [
        "Après élimination des stop words"
      ]
    },
    {
      "cell_type": "code",
      "metadata": {
        "colab_type": "code",
        "id": "KuK47rOKQYtG",
        "colab": {}
      },
      "source": [
        "title_max_len_cars = max(len((max(X_train_title, key=len))), len((max(X_test_title, key=len))))\n",
        "title_max_len_words = max(len(max(X_train_title, key=len).split()), len(max(X_test_title, key=len).split()))\n",
        "abstract_max_len_cars = max(len((max(X_train_abstract, key=len))), len((max(X_test_abstract, key=len))))\n",
        "abstract_max_len_words = max(len(max(X_train_abstract, key=len).split()), len(max(X_test_abstract, key=len).split()))"
      ],
      "execution_count": 0,
      "outputs": []
    },
    {
      "cell_type": "code",
      "metadata": {
        "colab_type": "code",
        "id": "eWNnofeQV-_2",
        "outputId": "42df1ca5-296c-4a7e-b707-4bbdc36996fb",
        "colab": {
          "base_uri": "https://localhost:8080/",
          "height": 52
        }
      },
      "source": [
        "print(f'Le nombre max des mots dans un titre est : {title_max_len_words}')\n",
        "print(f'Le nombre max des mots dans un abstract est : {abstract_max_len_words}')"
      ],
      "execution_count": 0,
      "outputs": [
        {
          "output_type": "stream",
          "text": [
            "Le nombre max des mots dans un titre est : 34\n",
            "Le nombre max des mots dans un abstract est : 1032\n"
          ],
          "name": "stdout"
        }
      ]
    },
    {
      "cell_type": "markdown",
      "metadata": {
        "colab_type": "text",
        "id": "K9aDeXxhPvDh"
      },
      "source": [
        "### B. Deuxième passe: Création des séquences et padding\n",
        "\n",
        "Le but est de transformer les textes en un vecteur numérique de taille fixe\n"
      ]
    },
    {
      "cell_type": "markdown",
      "metadata": {
        "colab_type": "text",
        "id": "ei6S1JAzTdzU"
      },
      "source": [
        "Pour les titres"
      ]
    },
    {
      "cell_type": "code",
      "metadata": {
        "colab_type": "code",
        "id": "seZK-PNrO-qm",
        "colab": {}
      },
      "source": [
        "tokenizer_title = tf.keras.preprocessing.text.Tokenizer(filters='!\"#$%&()*+,-./:;<=>?@[\\\\]^_`{|}~\\t\\n', lower=True, split=' ')\n",
        "tokenizer_title.fit_on_texts(X_train_title)\n",
        "\n",
        "word_index_title = tokenizer_title.word_index\n",
        "word_counts_title = tokenizer_title.word_counts\n",
        "document_count_title = tokenizer_title.document_count\n",
        "word_docs_title = tokenizer_title.word_docs\n",
        "\n",
        "# Transformer les textes en vecteurs numeriques à l'aide du tokenizer\n",
        "X_train_title_seq = tokenizer_title.texts_to_sequences(X_train_title)\n",
        "X_test_title_seq = tokenizer_title.texts_to_sequences(X_test_title)\n",
        "\n",
        "# Padding des sequences\n",
        "X_train_title_seq = sequence.pad_sequences(X_train_title_seq, maxlen = 40, padding = 'post', truncating='post')\n",
        "X_test_title_seq = sequence.pad_sequences(X_test_title_seq, maxlen = 40, padding = 'post', truncating='post')"
      ],
      "execution_count": 0,
      "outputs": []
    },
    {
      "cell_type": "markdown",
      "metadata": {
        "colab_type": "text",
        "id": "Y2_C45ikTjOB"
      },
      "source": [
        "Pour les abstracts"
      ]
    },
    {
      "cell_type": "code",
      "metadata": {
        "colab_type": "code",
        "id": "_tdGQVDiTEct",
        "colab": {}
      },
      "source": [
        "tokenizer_abstract = tf.keras.preprocessing.text.Tokenizer(filters='!\"#$%&()*+,-./:;<=>?@[\\\\]^_`{|}~\\t\\n', lower=True, split=' ')\n",
        "tokenizer_abstract.fit_on_texts(X_train_abstract)\n",
        "\n",
        "word_index_abstract = tokenizer_abstract.word_index\n",
        "word_counts_abstract = tokenizer_abstract.word_counts\n",
        "document_count_abstract = tokenizer_abstract.document_count\n",
        "word_docs_abstract = tokenizer_abstract.word_docs\n",
        "\n",
        "# Transformer les textes en vecteurs numeriques à l'aide du tokenizer\n",
        "X_train_abstract_seq = tokenizer_abstract.texts_to_sequences(X_train_abstract)\n",
        "X_test_abstract_seq = tokenizer_abstract.texts_to_sequences(X_test_abstract)\n",
        "\n",
        "# Padding des sequences\n",
        "X_train_abstract_seq = tf.keras.preprocessing.sequence.pad_sequences(X_train_abstract_seq, maxlen = 1200, padding = 'post', truncating='post')\n",
        "X_test_abstract_seq = tf.keras.preprocessing.sequence.pad_sequences(X_test_abstract_seq, maxlen = 1200, padding = 'post', truncating='post')\n"
      ],
      "execution_count": 0,
      "outputs": []
    },
    {
      "cell_type": "markdown",
      "metadata": {
        "colab_type": "text",
        "id": "0826H4BQ5Kaz"
      },
      "source": [
        "### Utilisation des embedding pré-entrainés\n",
        "\n",
        "Pour améliorer la qualité de la représentation des mots, il est possible d'entrainer les embeddings sur de larges corpus de textes non annotés. \n",
        "Ici nous allons utiliser des embeddings de taille 300d"
      ]
    },
    {
      "cell_type": "code",
      "metadata": {
        "colab_type": "code",
        "id": "dlkBi_gp5T6h",
        "colab": {}
      },
      "source": [
        "def create_embedding_matrix(filepath, word_index, embedding_dim):\n",
        "    vocab_size = len(word_index) + 1 \n",
        "    embedding_matrix = np.random.uniform(-0.25, 0.25, (vocab_size, embedding_dim))\n",
        "    with open(filepath) as f:\n",
        "        for line in f:\n",
        "            word, *vector = line.split()\n",
        "            if word in word_index:\n",
        "                idx = word_index[word] \n",
        "                embedding_matrix[idx] = np.array(\n",
        "                    vector, dtype=np.float32)[:embedding_dim]\n",
        "    return embedding_matrix"
      ],
      "execution_count": 0,
      "outputs": []
    },
    {
      "cell_type": "code",
      "metadata": {
        "colab_type": "code",
        "id": "PtOr9jhp5gZL",
        "colab": {}
      },
      "source": [
        "embedding_dim = 300\n",
        "embedding_matrix_abstract = create_embedding_matrix(glove_300d_path, word_index_abstract, embedding_dim)\n",
        "embedding_matrix_title = create_embedding_matrix(glove_300d_path, word_index_title, embedding_dim)"
      ],
      "execution_count": 0,
      "outputs": []
    },
    {
      "cell_type": "markdown",
      "metadata": {
        "colab_type": "text",
        "id": "-reF0HCXWSKs"
      },
      "source": [
        "### Entrainement des modèles"
      ]
    },
    {
      "cell_type": "markdown",
      "metadata": {
        "colab_type": "text",
        "id": "fVTFyZBuWceF"
      },
      "source": [
        "### 1. Titres seuls"
      ]
    },
    {
      "cell_type": "markdown",
      "metadata": {
        "colab_type": "text",
        "id": "_1TfST0CWty_"
      },
      "source": [
        "CNN : Réseau neuronal convolutif"
      ]
    },
    {
      "cell_type": "code",
      "metadata": {
        "colab_type": "code",
        "id": "w5u9NaYfWxtv",
        "colab": {}
      },
      "source": [
        "EMBED_DIM = 256\n",
        "LSTM_OUT = 128\n",
        "BATCH_SIZE = 128\n",
        "OUTPUT = len(cat_to_index)\n",
        "INPUT_LENGTH_TITLE = X_train_title_seq.shape[1]\n",
        "INPUT_LENGTH_ABSTRACT = X_train_abstract_seq.shape[1]\n",
        "VALIDATION_SPLIT = 0.2\n",
        "VERBOSE = 1\n",
        "INPUT_DIM_TITLE = len(word_counts_title) + 1\n",
        "INPUT_DIM_ABSTRACT = len(word_counts_abstract) + 1\n",
        "FILTERS = 200\n",
        "KERNEL_SIZE = 3"
      ],
      "execution_count": 0,
      "outputs": []
    },
    {
      "cell_type": "code",
      "metadata": {
        "colab_type": "code",
        "id": "opGevbv2Wx-l",
        "outputId": "106bbb0c-053d-4666-e47c-73ced4cdefbf",
        "colab": {
          "base_uri": "https://localhost:8080/",
          "height": 399
        }
      },
      "source": [
        "# Dans cet exemple nous allons utiliser des boucles pour vous montrer comment les hyperparamètres ont été fixés\n",
        "# Définir le modèle\n",
        "BATCH_SIZE_LIST = [32, 64, 128, 256, 512]\n",
        "test_results = []\n",
        "for batch in BATCH_SIZE_LIST:\n",
        "  model_CNN_title = Sequential()\n",
        "  model_CNN_title.add(Embedding(embedding_matrix_title.shape[0], embedding_matrix_title.shape[1], \n",
        "                            input_length = INPUT_LENGTH_TITLE, \n",
        "                            weights=[embedding_matrix_title], \n",
        "                            trainable=True))\n",
        "  model_CNN_title.add(Conv1D(filters = FILTERS, kernel_size = KERNEL_SIZE))\n",
        "  model_CNN_title.add(BatchNormalization(axis=-1))\n",
        "  model_CNN_title.add(Activation('relu'))\n",
        "  model_CNN_title.add(Dropout(0.1))\n",
        "  model_CNN_title.add(GlobalMaxPooling1D())\n",
        "  model_CNN_title.add(Dense(OUTPUT))\n",
        "  model_CNN_title.add(Activation('softmax'))\n",
        "  #print(model_CNN_title.summary())\n",
        "\n",
        "  # Compiler le modèle\n",
        "  model_CNN_title.compile(loss='sparse_categorical_crossentropy', optimizer='adam', metrics=['accuracy'])\n",
        "  history = model_CNN_title.fit(X_train_title_seq, Y_train_id,  epochs = 5,\n",
        "                                  verbose = None, validation_split = VALIDATION_SPLIT, batch_size = batch)\n",
        "  score = model_CNN_title.evaluate(X_test_title_seq, Y_test_id)\n",
        "  test_results.append(score[1])\n",
        "print(f'les résultats :{test_results}')\n",
        "print(f' pour les valeurs de batch size : {BATCH_SIZE_LIST}')\n",
        "\n",
        "# Plot pour visualiser \n",
        "from matplotlib.legend_handler import HandlerLine2D\n",
        "line2, = plt.plot(BATCH_SIZE_LIST, test_results, 'b', label= \"Test accuracy\")\n",
        "plt.legend(handler_map={line2: HandlerLine2D(numpoints=2)})\n",
        "plt.ylabel('Acc score')\n",
        "plt.xlabel('BATCH_SIZE')\n",
        "plt.show()"
      ],
      "execution_count": 0,
      "outputs": [
        {
          "output_type": "stream",
          "text": [
            "2000/2000 [==============================] - 0s 68us/step\n",
            "2000/2000 [==============================] - 0s 66us/step\n",
            "2000/2000 [==============================] - 0s 62us/step\n",
            "2000/2000 [==============================] - 0s 67us/step\n",
            "2000/2000 [==============================] - 0s 63us/step\n",
            "les résultats :[0.3545, 0.352, 0.3605, 0.3535, 0.355]\n",
            " pour les valeurs de batch size : [32, 64, 128, 256, 512]\n"
          ],
          "name": "stdout"
        },
        {
          "output_type": "display_data",
          "data": {
            "image/png": "[encoded data removed]",
            "text/plain": [
              "<Figure size 432x288 with 1 Axes>"
            ]
          },
          "metadata": {
            "tags": []
          }
        }
      ]
    },
    {
      "cell_type": "markdown",
      "metadata": {
        "colab_type": "text",
        "id": "IM5QS8jekQJ1"
      },
      "source": [
        "Bidirectional LSTM"
      ]
    },
    {
      "cell_type": "code",
      "metadata": {
        "colab_type": "code",
        "id": "t9ee5bQYYVTc",
        "outputId": "76ef3bde-a137-45c8-a496-524b4dd45a62",
        "colab": {
          "base_uri": "https://localhost:8080/",
          "height": 1000
        }
      },
      "source": [
        "# Definir le modèle\n",
        "model_LSTM_title = Sequential()\n",
        "model_LSTM_title.add(Embedding(embedding_matrix_title.shape[0], embedding_matrix_title.shape[1], \n",
        "                          input_length = INPUT_LENGTH_TITLE, \n",
        "                          weights=[embedding_matrix_title], \n",
        "                          trainable=True))\n",
        "model_LSTM_title.add(SpatialDropout1D(0.5))\n",
        "model_LSTM_title.add(Bidirectional(LSTM(LSTM_OUT)))\n",
        "model_LSTM_title.add(Dropout(0.2))\n",
        "model_LSTM_title.add(Dense(OUTPUT))\n",
        "model_LSTM_title.add(Activation('softmax'))\n",
        "print(model_LSTM_title.summary())\n",
        "\n",
        "# Compiler le modèle\n",
        "model_LSTM_title.compile(loss='sparse_categorical_crossentropy', optimizer='adam', metrics=['accuracy'])\n",
        "history = model_LSTM_title.fit(X_train_title_seq, Y_train_id,  epochs = 10,  verbose = VERBOSE, \n",
        "                                 validation_split=VALIDATION_SPLIT, batch_size = BATCH_SIZE)\n",
        "score = model_LSTM_title.evaluate(X_test_title_seq, Y_test_id)\n",
        "print('Test score:', score[0])\n",
        "print('Test accuracy:', score[1])\n",
        "\n",
        "# Liste de données dans l'historique\n",
        "print(history.history.keys())\n",
        "\n",
        "# Plot pour comparer accuracy et validate accuracy\n",
        "plt.plot(history.history['acc'])\n",
        "plt.plot(history.history['val_acc'])\n",
        "plt.title('model accuracy')\n",
        "plt.ylabel('accuracy')\n",
        "plt.xlabel('epoch')\n",
        "plt.legend(['train', 'test'], loc = 'upper left')\n",
        "plt.show()\n",
        "\n",
        "# Plot pour comparer loss et validation loss\n",
        "plt.plot(history.history['loss'])\n",
        "plt.plot(history.history['val_loss'])\n",
        "plt.title('model loss')\n",
        "plt.ylabel('loss')\n",
        "plt.xlabel('epoch')\n",
        "plt.legend(['train', 'test'], loc = 'upper left')\n",
        "plt.show()"
      ],
      "execution_count": 0,
      "outputs": [
        {
          "output_type": "stream",
          "text": [
            "Model: \"sequential_37\"\n",
            "_________________________________________________________________\n",
            "Layer (type)                 Output Shape              Param #   \n",
            "=================================================================\n",
            "embedding_37 (Embedding)     (None, 40, 300)           3650400   \n",
            "_________________________________________________________________\n",
            "spatial_dropout1d_2 (Spatial (None, 40, 300)           0         \n",
            "_________________________________________________________________\n",
            "bidirectional_2 (Bidirection (None, 256)               439296    \n",
            "_________________________________________________________________\n",
            "dropout_37 (Dropout)         (None, 256)               0         \n",
            "_________________________________________________________________\n",
            "dense_37 (Dense)             (None, 97)                24929     \n",
            "_________________________________________________________________\n",
            "activation_72 (Activation)   (None, 97)                0         \n",
            "=================================================================\n",
            "Total params: 4,114,625\n",
            "Trainable params: 4,114,625\n",
            "Non-trainable params: 0\n",
            "_________________________________________________________________\n",
            "None\n",
            "Train on 6400 samples, validate on 1600 samples\n",
            "Epoch 1/10\n",
            "6400/6400 [==============================] - 16s 2ms/step - loss: 3.4895 - acc: 0.2162 - val_loss: 3.0524 - val_acc: 0.3050\n",
            "Epoch 2/10\n",
            "6400/6400 [==============================] - 8s 1ms/step - loss: 2.9151 - acc: 0.2939 - val_loss: 2.7319 - val_acc: 0.3375\n",
            "Epoch 3/10\n",
            "6400/6400 [==============================] - 8s 1ms/step - loss: 2.5973 - acc: 0.3442 - val_loss: 2.5091 - val_acc: 0.3606\n",
            "Epoch 4/10\n",
            "6400/6400 [==============================] - 8s 1ms/step - loss: 2.3857 - acc: 0.3833 - val_loss: 2.4144 - val_acc: 0.3806\n",
            "Epoch 5/10\n",
            "6400/6400 [==============================] - 8s 1ms/step - loss: 2.2206 - acc: 0.4139 - val_loss: 2.3622 - val_acc: 0.3806\n",
            "Epoch 6/10\n",
            "6400/6400 [==============================] - 8s 1ms/step - loss: 2.0725 - acc: 0.4412 - val_loss: 2.3437 - val_acc: 0.3794\n",
            "Epoch 7/10\n",
            "6400/6400 [==============================] - 8s 1ms/step - loss: 1.9433 - acc: 0.4736 - val_loss: 2.2864 - val_acc: 0.4100\n",
            "Epoch 8/10\n",
            "6400/6400 [==============================] - 8s 1ms/step - loss: 1.7977 - acc: 0.5066 - val_loss: 2.2860 - val_acc: 0.4113\n",
            "Epoch 9/10\n",
            "6400/6400 [==============================] - 8s 1ms/step - loss: 1.6874 - acc: 0.5384 - val_loss: 2.3046 - val_acc: 0.4081\n",
            "Epoch 10/10\n",
            "6400/6400 [==============================] - 9s 1ms/step - loss: 1.5567 - acc: 0.5717 - val_loss: 2.3370 - val_acc: 0.4006\n",
            "2000/2000 [==============================] - 4s 2ms/step\n",
            "Test score: 2.425234266281128\n",
            "Test accuracy: 0.4055\n",
            "dict_keys(['val_loss', 'val_acc', 'loss', 'acc'])\n"
          ],
          "name": "stdout"
        },
        {
          "output_type": "display_data",
          "data": {
            "image/png": "[encoded data removed]",
            "text/plain": [
              "<Figure size 432x288 with 1 Axes>"
            ]
          },
          "metadata": {
            "tags": []
          }
        },
        {
          "output_type": "display_data",
          "data": {
            "image/png": "[encoded data removed]",
            "text/plain": [
              "<Figure size 432x288 with 1 Axes>"
            ]
          },
          "metadata": {
            "tags": []
          }
        }
      ]
    },
    {
      "cell_type": "code",
      "metadata": {
        "colab_type": "code",
        "id": "rFjaKUroyBXu",
        "outputId": "95a97417-79ce-4990-ab1d-b20720245459",
        "colab": {
          "base_uri": "https://localhost:8080/",
          "height": 34
        }
      },
      "source": [
        "# Nuage tfprojector pour Bidirectional LSTM \n",
        "e = model_LSTM_title.layers[0]\n",
        "weights = e.get_weights()[0]\n",
        "print(weights.shape)\n",
        "import io\n",
        "\n",
        "#encoder = info.features['text'].encoder\n",
        "out_v = io.open('/content/drive/My Drive/keras/vecs.tsv', 'w', encoding='utf-8')\n",
        "out_m = io.open('/content/drive/My Drive/keras/meta.tsv', 'w', encoding='utf-8')\n",
        "for num, word in enumerate(word_index_title):\n",
        "  vec = weights[num+1] # skip 0, it's padding.\n",
        "  out_m.write(word + \"\\n\")\n",
        "  out_v.write('\\t'.join([str(x) for x in vec]) + \"\\n\")\n",
        "out_v.close()\n",
        "out_m.close()"
      ],
      "execution_count": 0,
      "outputs": [
        {
          "output_type": "stream",
          "text": [
            "(12168, 300)\n"
          ],
          "name": "stdout"
        }
      ]
    },
    {
      "cell_type": "markdown",
      "metadata": {
        "colab_type": "text",
        "id": "AYYCT_JVskbh"
      },
      "source": [
        "### 2. Abstracts seuls"
      ]
    },
    {
      "cell_type": "markdown",
      "metadata": {
        "colab_type": "text",
        "id": "31Wc1jaTswPD"
      },
      "source": [
        "CNN : Réseau neuronal convolutif"
      ]
    },
    {
      "cell_type": "code",
      "metadata": {
        "colab_type": "code",
        "id": "nvvVA48YO7vg",
        "outputId": "e0d1c38f-cfff-4dc2-d564-7f23b0a4c76e",
        "colab": {
          "base_uri": "https://localhost:8080/",
          "height": 1000
        }
      },
      "source": [
        "# Définir le modèle\n",
        "model_CNN_abstract = Sequential()\n",
        "model_CNN_abstract.add(Embedding(embedding_matrix_abstract.shape[0], embedding_matrix_abstract.shape[1], \n",
        "                       input_length = INPUT_LENGTH_ABSTRACT, \n",
        "                       weights=[embedding_matrix_abstract], \n",
        "                       trainable=True))\n",
        "model_CNN_abstract.add(Conv1D(filters = FILTERS, kernel_size = KERNEL_SIZE))\n",
        "model_CNN_abstract.add(BatchNormalization(axis=-1))\n",
        "model_CNN_abstract.add(Activation('relu'))\n",
        "model_CNN_abstract.add(Dropout(0.1))\n",
        "model_CNN_abstract.add(GlobalMaxPooling1D())\n",
        "model_CNN_abstract.add(Dense(OUTPUT))\n",
        "model_CNN_abstract.add(Activation('softmax'))\n",
        "print(model_CNN_abstract.summary())\n",
        "\n",
        "# Compiler le modèle\n",
        "model_CNN_abstract.compile(loss='sparse_categorical_crossentropy', optimizer='adam', metrics=['accuracy'])\n",
        "history = model_CNN_abstract.fit(X_train_abstract_seq, Y_train_id,  epochs = 15,  verbose = VERBOSE, \n",
        "                                 validation_split = VALIDATION_SPLIT, batch_size = BATCH_SIZE)\n",
        "score = model_CNN_abstract.evaluate(X_test_abstract_seq, Y_test_id)\n",
        "print('Test score:', score[0])\n",
        "print('Test accuracy:', score[1])\n",
        "\n",
        "# Liste de données dans l'historique\n",
        "print(history.history.keys())\n",
        "\n",
        "# Plot pour comparer accuracy et validate accuracy\n",
        "plt.plot(history.history['acc'])\n",
        "plt.plot(history.history['val_acc'])\n",
        "plt.title('model accuracy')\n",
        "plt.ylabel('accuracy')\n",
        "plt.xlabel('epoch')\n",
        "plt.legend(['train', 'test'], loc = 'upper left')\n",
        "plt.show()\n",
        "\n",
        "# Plot pour comparer loss et validation loss\n",
        "plt.plot(history.history['loss'])\n",
        "plt.plot(history.history['val_loss'])\n",
        "plt.title('model loss')\n",
        "plt.ylabel('loss')\n",
        "plt.xlabel('epoch')\n",
        "plt.legend(['train', 'test'], loc = 'upper left')\n",
        "plt.show()\n",
        "\n",
        "# Matrice de confusion\n",
        "from sklearn.metrics import classification_report, confusion_matrix\n",
        "predicted_classes = model_CNN_abstract.predict_classes(X_test_abstract_seq)\n",
        "print(confusion_matrix(Y_test_id, predicted_classes))\n",
        "print(classification_report(Y_test_id, predicted_classes))"
      ],
      "execution_count": 0,
      "outputs": [
        {
          "output_type": "stream",
          "text": [
            "Model: \"sequential_2\"\n",
            "_________________________________________________________________\n",
            "Layer (type)                 Output Shape              Param #   \n",
            "=================================================================\n",
            "embedding_2 (Embedding)      (None, 1200, 300)         12193200  \n",
            "_________________________________________________________________\n",
            "conv1d_2 (Conv1D)            (None, 1198, 200)         180200    \n",
            "_________________________________________________________________\n",
            "batch_normalization_2 (Batch (None, 1198, 200)         800       \n",
            "_________________________________________________________________\n",
            "activation_3 (Activation)    (None, 1198, 200)         0         \n",
            "_________________________________________________________________\n",
            "dropout_2 (Dropout)          (None, 1198, 200)         0         \n",
            "_________________________________________________________________\n",
            "global_max_pooling1d_2 (Glob (None, 200)               0         \n",
            "_________________________________________________________________\n",
            "dense_2 (Dense)              (None, 97)                19497     \n",
            "_________________________________________________________________\n",
            "activation_4 (Activation)    (None, 97)                0         \n",
            "=================================================================\n",
            "Total params: 12,393,697\n",
            "Trainable params: 12,393,297\n",
            "Non-trainable params: 400\n",
            "_________________________________________________________________\n",
            "None\n",
            "Train on 6400 samples, validate on 1600 samples\n",
            "Epoch 1/15\n",
            "6400/6400 [==============================] - 4s 684us/step - loss: 6.4396 - acc: 0.1922 - val_loss: 3.8500 - val_acc: 0.2675\n",
            "Epoch 2/15\n",
            "6400/6400 [==============================] - 4s 581us/step - loss: 2.6934 - acc: 0.4953 - val_loss: 3.3350 - val_acc: 0.3456\n",
            "Epoch 3/15\n",
            "6400/6400 [==============================] - 4s 582us/step - loss: 1.8992 - acc: 0.7089 - val_loss: 3.2631 - val_acc: 0.3613\n",
            "Epoch 4/15\n",
            "6400/6400 [==============================] - 4s 585us/step - loss: 1.3402 - acc: 0.8725 - val_loss: 3.3151 - val_acc: 0.3494\n",
            "Epoch 5/15\n",
            "6400/6400 [==============================] - 4s 583us/step - loss: 1.0968 - acc: 0.9297 - val_loss: 3.2902 - val_acc: 0.3556\n",
            "Epoch 6/15\n",
            "6400/6400 [==============================] - 4s 582us/step - loss: 1.0218 - acc: 0.9384 - val_loss: 3.2966 - val_acc: 0.3600\n",
            "Epoch 7/15\n",
            "6400/6400 [==============================] - 4s 582us/step - loss: 0.9980 - acc: 0.9397 - val_loss: 3.2921 - val_acc: 0.3650\n",
            "Epoch 8/15\n",
            "6400/6400 [==============================] - 4s 584us/step - loss: 0.9883 - acc: 0.9400 - val_loss: 3.3000 - val_acc: 0.3762\n",
            "Epoch 9/15\n",
            "6400/6400 [==============================] - 4s 581us/step - loss: 0.9822 - acc: 0.9400 - val_loss: 3.3161 - val_acc: 0.3794\n",
            "Epoch 10/15\n",
            "6400/6400 [==============================] - 4s 584us/step - loss: 0.9792 - acc: 0.9400 - val_loss: 3.3449 - val_acc: 0.3762\n",
            "Epoch 11/15\n",
            "6400/6400 [==============================] - 4s 581us/step - loss: 0.9769 - acc: 0.9400 - val_loss: 3.3584 - val_acc: 0.3762\n",
            "Epoch 12/15\n",
            "6400/6400 [==============================] - 4s 583us/step - loss: 0.9757 - acc: 0.9398 - val_loss: 3.3578 - val_acc: 0.3738\n",
            "Epoch 13/15\n",
            "6400/6400 [==============================] - 4s 581us/step - loss: 0.9745 - acc: 0.9400 - val_loss: 3.3745 - val_acc: 0.3825\n",
            "Epoch 14/15\n",
            "6400/6400 [==============================] - 4s 582us/step - loss: 0.9731 - acc: 0.9400 - val_loss: 3.3911 - val_acc: 0.3800\n",
            "Epoch 15/15\n",
            "6400/6400 [==============================] - 4s 583us/step - loss: 0.9727 - acc: 0.9400 - val_loss: 3.4000 - val_acc: 0.3837\n",
            "2000/2000 [==============================] - 0s 169us/step\n",
            "Test score: 3.3911073093414306\n",
            "Test accuracy: 0.3935\n",
            "dict_keys(['val_loss', 'val_acc', 'loss', 'acc'])\n"
          ],
          "name": "stdout"
        },
        {
          "output_type": "display_data",
          "data": {
            "image/png": "[encoded data removed]",
            "text/plain": [
              "<Figure size 432x288 with 1 Axes>"
            ]
          },
          "metadata": {
            "tags": []
          }
        },
        {
          "output_type": "display_data",
          "data": {
            "image/png": "[encoded data removed]",
            "text/plain": [
              "<Figure size 432x288 with 1 Axes>"
            ]
          },
          "metadata": {
            "tags": []
          }
        },
        {
          "output_type": "stream",
          "text": [
            "[[0 0 0 ... 0 0 0]\n",
            " [0 4 0 ... 0 0 0]\n",
            " [0 0 0 ... 0 0 0]\n",
            " ...\n",
            " [0 0 0 ... 0 0 0]\n",
            " [0 0 0 ... 0 0 0]\n",
            " [0 0 0 ... 0 0 0]]\n",
            "              precision    recall  f1-score   support\n",
            "\n",
            "           0       0.00      0.00      0.00         1\n",
            "           1       0.11      0.07      0.09        58\n",
            "           2       0.00      0.00      0.00         2\n",
            "           3       0.20      0.25      0.22         4\n",
            "           4       0.00      0.00      0.00        25\n",
            "           5       0.65      0.71      0.68       125\n",
            "           6       0.12      0.07      0.09        40\n",
            "           7       0.51      0.59      0.55       100\n",
            "           8       0.44      0.75      0.55       113\n",
            "           9       0.43      0.34      0.38        74\n",
            "          10       0.33      0.60      0.43       369\n",
            "          11       0.43      0.33      0.38        39\n",
            "          12       0.00      0.00      0.00        20\n",
            "          13       0.00      0.00      0.00         8\n",
            "          14       0.00      0.00      0.00        13\n",
            "          15       0.40      0.24      0.30        17\n",
            "          16       0.49      0.36      0.41        64\n",
            "          17       0.00      0.00      0.00        20\n",
            "          18       0.12      0.07      0.09        15\n",
            "          19       0.53      0.73      0.61       133\n",
            "          20       0.56      0.28      0.37        18\n",
            "          21       0.18      0.23      0.20        57\n",
            "          22       0.21      0.23      0.22        44\n",
            "          23       0.50      0.10      0.16        21\n",
            "          24       0.40      0.12      0.18        17\n",
            "          25       0.44      0.38      0.41        21\n",
            "          26       0.00      0.00      0.00         1\n",
            "          27       0.00      0.00      0.00         3\n",
            "          28       0.65      0.68      0.67        38\n",
            "          29       0.12      0.04      0.06        23\n",
            "          30       0.00      0.00      0.00         5\n",
            "          31       0.00      0.00      0.00         7\n",
            "          32       0.33      0.38      0.35       138\n",
            "          33       0.00      0.00      0.00         2\n",
            "          34       0.64      0.64      0.64        22\n",
            "          35       0.31      0.83      0.45         6\n",
            "          36       0.00      0.00      0.00        13\n",
            "          37       0.00      0.00      0.00         3\n",
            "          38       0.00      0.00      0.00         7\n",
            "          39       0.27      0.11      0.15        28\n",
            "          40       0.50      0.32      0.39        28\n",
            "          41       0.00      0.00      0.00        12\n",
            "          43       0.00      0.00      0.00         7\n",
            "          44       0.43      0.21      0.29        14\n",
            "          45       0.44      0.17      0.25        23\n",
            "          46       0.00      0.00      0.00        10\n",
            "          47       0.00      0.00      0.00         8\n",
            "          48       0.00      0.00      0.00         3\n",
            "          49       0.00      0.00      0.00         5\n",
            "          50       0.00      0.00      0.00         6\n",
            "          51       0.00      0.00      0.00         8\n",
            "          52       0.00      0.00      0.00         8\n",
            "          53       0.00      0.00      0.00         8\n",
            "          54       1.00      0.07      0.13        14\n",
            "          56       0.00      0.00      0.00        11\n",
            "          57       0.00      0.00      0.00         3\n",
            "          58       0.00      0.00      0.00         3\n",
            "          59       0.33      0.07      0.11        15\n",
            "          60       0.00      0.00      0.00         5\n",
            "          61       0.00      0.00      0.00        10\n",
            "          62       0.00      0.00      0.00         9\n",
            "          64       0.00      0.00      0.00        11\n",
            "          65       0.00      0.00      0.00         2\n",
            "          66       0.00      0.00      0.00         1\n",
            "          67       0.00      0.00      0.00         2\n",
            "          68       0.00      0.00      0.00         9\n",
            "          69       0.00      0.00      0.00         1\n",
            "          70       0.00      0.00      0.00         6\n",
            "          71       0.00      0.00      0.00         1\n",
            "          72       0.00      0.00      0.00         5\n",
            "          74       0.00      0.00      0.00         2\n",
            "          75       0.00      0.00      0.00         1\n",
            "          76       0.00      0.00      0.00         5\n",
            "          77       0.00      0.00      0.00         4\n",
            "          78       0.00      0.00      0.00         2\n",
            "          79       0.00      0.00      0.00         1\n",
            "          80       0.00      0.00      0.00         2\n",
            "          82       0.00      0.00      0.00         3\n",
            "          83       0.00      0.00      0.00         3\n",
            "          84       0.00      0.00      0.00         1\n",
            "          85       0.00      0.00      0.00         4\n",
            "          87       0.00      0.00      0.00         3\n",
            "          88       0.00      0.00      0.00         1\n",
            "          89       0.00      0.00      0.00         1\n",
            "          90       0.00      0.00      0.00         1\n",
            "          91       0.00      0.00      0.00         3\n",
            "          93       0.00      0.00      0.00         1\n",
            "\n",
            "    accuracy                           0.39      2000\n",
            "   macro avg       0.14      0.11      0.11      2000\n",
            "weighted avg       0.34      0.39      0.35      2000\n",
            "\n"
          ],
          "name": "stdout"
        },
        {
          "output_type": "stream",
          "text": [
            "/usr/local/lib/python3.6/dist-packages/sklearn/metrics/classification.py:1437: UndefinedMetricWarning: Precision and F-score are ill-defined and being set to 0.0 in labels with no predicted samples.\n",
            "  'precision', 'predicted', average, warn_for)\n"
          ],
          "name": "stderr"
        }
      ]
    },
    {
      "cell_type": "markdown",
      "metadata": {
        "colab_type": "text",
        "id": "fGj8zyTpUr8o"
      },
      "source": [
        "Bidirectional LSTM"
      ]
    },
    {
      "cell_type": "code",
      "metadata": {
        "colab_type": "code",
        "id": "miPuV94VtEOR",
        "outputId": "2dcbf11c-7f83-4942-e641-6bca043b8842",
        "colab": {
          "base_uri": "https://localhost:8080/",
          "height": 1000
        }
      },
      "source": [
        "# Définir le modèle\n",
        "model_LSTM_abstract = Sequential()\n",
        "model_LSTM_abstract.add(Embedding(embedding_matrix_abstract.shape[0], embedding_matrix_abstract.shape[1], \n",
        "                                  input_length = INPUT_LENGTH_ABSTRACT, \n",
        "                                  weights=[embedding_matrix_abstract], \n",
        "                                  trainable=True))\n",
        "model_LSTM_abstract.add(SpatialDropout1D(0.5))\n",
        "model_LSTM_abstract.add(Bidirectional(LSTM(LSTM_OUT)))\n",
        "model_LSTM_abstract.add(Dropout(0.2))\n",
        "model_LSTM_abstract.add(Dense(OUTPUT))\n",
        "model_LSTM_abstract.add(Activation('softmax'))\n",
        "print(model_LSTM_abstract.summary())\n",
        "\n",
        "# Compiler le modèle\n",
        "model_LSTM_abstract.compile(loss='sparse_categorical_crossentropy', optimizer='adam', metrics=['accuracy'])\n",
        "history = model_LSTM_abstract.fit(X_train_abstract_seq, Y_train_id,  epochs = 10,  verbose = VERBOSE, \n",
        "                                  validation_split=VALIDATION_SPLIT, batch_size = BATCH_SIZE)\n",
        "score = model_LSTM_abstract.evaluate(X_test_abstract_seq, Y_test_id)\n",
        "print('Test score:', score[0])\n",
        "print('Test accuracy:', score[1])\n",
        "\n",
        "# Liste de données dans l'historique\n",
        "print(history.history.keys())\n",
        "\n",
        "# Plot pour comparer accuracy et validate accuracy\n",
        "plt.plot(history.history['acc'])\n",
        "plt.plot(history.history['val_acc'])\n",
        "plt.title('model accuracy')\n",
        "plt.ylabel('accuracy')\n",
        "plt.xlabel('epoch')\n",
        "plt.legend(['train', 'test'], loc = 'upper left')\n",
        "plt.show()\n",
        "\n",
        "# Plot pour comparer loss et validation loss\n",
        "plt.plot(history.history['loss'])\n",
        "plt.plot(history.history['val_loss'])\n",
        "plt.title('model loss')\n",
        "plt.ylabel('loss')\n",
        "plt.xlabel('epoch')\n",
        "plt.legend(['train', 'test'], loc = 'upper left')\n",
        "plt.show()"
      ],
      "execution_count": 0,
      "outputs": [
        {
          "output_type": "stream",
          "text": [
            "Model: \"sequential_4\"\n",
            "_________________________________________________________________\n",
            "Layer (type)                 Output Shape              Param #   \n",
            "=================================================================\n",
            "embedding_4 (Embedding)      (None, 1200, 300)         12193200  \n",
            "_________________________________________________________________\n",
            "spatial_dropout1d_2 (Spatial (None, 1200, 300)         0         \n",
            "_________________________________________________________________\n",
            "bidirectional_2 (Bidirection (None, 256)               439296    \n",
            "_________________________________________________________________\n",
            "dropout_4 (Dropout)          (None, 256)               0         \n",
            "_________________________________________________________________\n",
            "dense_4 (Dense)              (None, 97)                24929     \n",
            "_________________________________________________________________\n",
            "activation_6 (Activation)    (None, 97)                0         \n",
            "=================================================================\n",
            "Total params: 12,657,425\n",
            "Trainable params: 12,657,425\n",
            "Non-trainable params: 0\n",
            "_________________________________________________________________\n",
            "None\n",
            "Train on 6400 samples, validate on 1600 samples\n",
            "Epoch 1/10\n",
            "6400/6400 [==============================] - 181s 28ms/step - loss: 3.4760 - acc: 0.2164 - val_loss: 2.9894 - val_acc: 0.2950\n",
            "Epoch 2/10\n",
            "6400/6400 [==============================] - 176s 27ms/step - loss: 2.8680 - acc: 0.3022 - val_loss: 2.6451 - val_acc: 0.3331\n",
            "Epoch 3/10\n",
            "6400/6400 [==============================] - 177s 28ms/step - loss: 2.6124 - acc: 0.3380 - val_loss: 2.5036 - val_acc: 0.3575\n",
            "Epoch 4/10\n",
            "6400/6400 [==============================] - 176s 27ms/step - loss: 2.4489 - acc: 0.3614 - val_loss: 2.3985 - val_acc: 0.3738\n",
            "Epoch 5/10\n",
            "6400/6400 [==============================] - 175s 27ms/step - loss: 2.2915 - acc: 0.3936 - val_loss: 2.2942 - val_acc: 0.4025\n",
            "Epoch 6/10\n",
            "6400/6400 [==============================] - 174s 27ms/step - loss: 2.1632 - acc: 0.4189 - val_loss: 2.2770 - val_acc: 0.4081\n",
            "Epoch 7/10\n",
            "6400/6400 [==============================] - 176s 28ms/step - loss: 2.0414 - acc: 0.4542 - val_loss: 2.2270 - val_acc: 0.4156\n",
            "Epoch 8/10\n",
            "6400/6400 [==============================] - 175s 27ms/step - loss: 1.9215 - acc: 0.4858 - val_loss: 2.1890 - val_acc: 0.4219\n",
            "Epoch 9/10\n",
            "6400/6400 [==============================] - 174s 27ms/step - loss: 1.7999 - acc: 0.5083 - val_loss: 2.1504 - val_acc: 0.4188\n",
            "Epoch 10/10\n",
            "6400/6400 [==============================] - 177s 28ms/step - loss: 1.7034 - acc: 0.5305 - val_loss: 2.1512 - val_acc: 0.4356\n",
            "2000/2000 [==============================] - 73s 37ms/step\n",
            "Test score: 2.2358912544250487\n",
            "Test accuracy: 0.434\n",
            "dict_keys(['val_loss', 'val_acc', 'loss', 'acc'])\n"
          ],
          "name": "stdout"
        },
        {
          "output_type": "display_data",
          "data": {
            "image/png": "[encoded data removed]",
            "text/plain": [
              "<Figure size 432x288 with 1 Axes>"
            ]
          },
          "metadata": {
            "tags": []
          }
        },
        {
          "output_type": "display_data",
          "data": {
            "image/png": "[encoded data removed]",
            "text/plain": [
              "<Figure size 432x288 with 1 Axes>"
            ]
          },
          "metadata": {
            "tags": []
          }
        }
      ]
    },
    {
      "cell_type": "markdown",
      "metadata": {
        "colab_type": "text",
        "id": "ZDFaT7lEj0vz"
      },
      "source": [
        "### 3.  Titres et Abstracts"
      ]
    },
    {
      "cell_type": "markdown",
      "metadata": {
        "colab_type": "text",
        "id": "n-IwKDbGkGak"
      },
      "source": [
        "CNN avec 2 inputs\n",
        "\n"
      ]
    },
    {
      "cell_type": "code",
      "metadata": {
        "id": "W-IzGiIYKhrB",
        "colab_type": "code",
        "outputId": "51b5f02e-2f85-4e52-b2b1-83643b0651d6",
        "colab": {
          "base_uri": "https://localhost:8080/",
          "height": 1000
        }
      },
      "source": [
        "# Entrée 01 \n",
        "model_title = Sequential()\n",
        "model_title.add(Embedding(embedding_matrix_title.shape[0], embedding_matrix_title.shape[1], \n",
        "                          input_length = INPUT_LENGTH_TITLE, \n",
        "                          weights=[embedding_matrix_title], \n",
        "                          trainable=True))\n",
        "model_title.add(Conv1D(filters = FILTERS, kernel_size = KERNEL_SIZE))\n",
        "model_title.add(BatchNormalization(axis=-1))\n",
        "model_title.add(Activation('relu'))\n",
        "model_title.add(Dropout(0.1))\n",
        "model_title.add(GlobalMaxPooling1D())\n",
        "\n",
        "# Entrée 02\n",
        "model_abstract = Sequential()\n",
        "model_abstract.add(Embedding(embedding_matrix_abstract.shape[0], embedding_matrix_abstract.shape[1], \n",
        "                          input_length = INPUT_LENGTH_ABSTRACT, \n",
        "                          weights=[embedding_matrix_abstract], \n",
        "                          trainable=True))\n",
        "model_abstract.add(Conv1D(filters = FILTERS, kernel_size = KERNEL_SIZE))\n",
        "model_abstract.add(BatchNormalization(axis=-1))\n",
        "model_abstract.add(Activation('relu'))\n",
        "model_abstract.add(Dropout(0.1))\n",
        "model_abstract.add(GlobalMaxPooling1D())\n",
        "\n",
        "# Concaténation\n",
        "concat_layers = concatenate([model_title.output, model_abstract.output], axis=-1)\n",
        "layer = Dense(OUTPUT)(concat_layers)\n",
        "outlayer = Activation('softmax')(layer)\n",
        "model = Model([model_title.input, model_abstract.input], [outlayer])\n",
        "\n",
        "\n",
        "# Compilation\n",
        "model.compile(loss = 'sparse_categorical_crossentropy', optimizer='adam',metrics = ['accuracy'])\n",
        "print(model.summary())\n",
        "history = model.fit([np.array(X_train_title_seq), np.array(X_train_abstract_seq)], np.array(Y_train_id), batch_size = BATCH_SIZE, epochs = 25,\n",
        "verbose = VERBOSE, validation_split = VALIDATION_SPLIT)\n",
        "score = model.evaluate([np.array(X_test_title_seq), np.array(X_test_abstract_seq)], np.array(Y_test_id), verbose = VERBOSE)\n",
        "print(\"Test loss:\", score[0])\n",
        "print('Test accuracy:', score[1])\n",
        "\n",
        "# Liste de données dans l'historique\n",
        "print(history.history.keys())\n",
        "\n",
        "# Plot pour comparer accuracy et validate accuracy\n",
        "plt.plot(history.history['acc'])\n",
        "plt.plot(history.history['val_acc'])\n",
        "plt.title('model accuracy')\n",
        "plt.ylabel('accuracy')\n",
        "plt.xlabel('epoch')\n",
        "plt.legend(['train', 'test'], loc = 'upper left')\n",
        "plt.show()\n",
        "\n",
        "# Plot pour comparer loss et validation loss\n",
        "plt.plot(history.history['loss'])\n",
        "plt.plot(history.history['val_loss'])\n",
        "plt.title('model loss')\n",
        "plt.ylabel('loss')\n",
        "plt.xlabel('epoch')\n",
        "plt.legend(['train', 'test'], loc = 'upper left')\n",
        "plt.show()"
      ],
      "execution_count": 0,
      "outputs": [
        {
          "output_type": "stream",
          "text": [
            "Model: \"model_7\"\n",
            "__________________________________________________________________________________________________\n",
            "Layer (type)                    Output Shape         Param #     Connected to                     \n",
            "==================================================================================================\n",
            "embedding_13_input (InputLayer) (None, 40)           0                                            \n",
            "__________________________________________________________________________________________________\n",
            "embedding_14_input (InputLayer) (None, 1200)         0                                            \n",
            "__________________________________________________________________________________________________\n",
            "embedding_13 (Embedding)        (None, 40, 300)      3650400     embedding_13_input[0][0]         \n",
            "__________________________________________________________________________________________________\n",
            "embedding_14 (Embedding)        (None, 1200, 300)    12193200    embedding_14_input[0][0]         \n",
            "__________________________________________________________________________________________________\n",
            "conv1d_13 (Conv1D)              (None, 38, 200)      180200      embedding_13[0][0]               \n",
            "__________________________________________________________________________________________________\n",
            "conv1d_14 (Conv1D)              (None, 1198, 200)    180200      embedding_14[0][0]               \n",
            "__________________________________________________________________________________________________\n",
            "batch_normalization_13 (BatchNo (None, 38, 200)      800         conv1d_13[0][0]                  \n",
            "__________________________________________________________________________________________________\n",
            "batch_normalization_14 (BatchNo (None, 1198, 200)    800         conv1d_14[0][0]                  \n",
            "__________________________________________________________________________________________________\n",
            "activation_19 (Activation)      (None, 38, 200)      0           batch_normalization_13[0][0]     \n",
            "__________________________________________________________________________________________________\n",
            "activation_20 (Activation)      (None, 1198, 200)    0           batch_normalization_14[0][0]     \n",
            "__________________________________________________________________________________________________\n",
            "dropout_13 (Dropout)            (None, 38, 200)      0           activation_19[0][0]              \n",
            "__________________________________________________________________________________________________\n",
            "dropout_14 (Dropout)            (None, 1198, 200)    0           activation_20[0][0]              \n",
            "__________________________________________________________________________________________________\n",
            "global_max_pooling1d_13 (Global (None, 200)          0           dropout_13[0][0]                 \n",
            "__________________________________________________________________________________________________\n",
            "global_max_pooling1d_14 (Global (None, 200)          0           dropout_14[0][0]                 \n",
            "__________________________________________________________________________________________________\n",
            "concatenate_7 (Concatenate)     (None, 400)          0           global_max_pooling1d_13[0][0]    \n",
            "                                                                 global_max_pooling1d_14[0][0]    \n",
            "__________________________________________________________________________________________________\n",
            "dense_7 (Dense)                 (None, 97)           38897       concatenate_7[0][0]              \n",
            "__________________________________________________________________________________________________\n",
            "activation_21 (Activation)      (None, 97)           0           dense_7[0][0]                    \n",
            "==================================================================================================\n",
            "Total params: 16,244,497\n",
            "Trainable params: 16,243,697\n",
            "Non-trainable params: 800\n",
            "__________________________________________________________________________________________________\n",
            "None\n",
            "Train on 6400 samples, validate on 1600 samples\n",
            "Epoch 1/25\n",
            "6400/6400 [==============================] - 5s 835us/step - loss: 6.1195 - acc: 0.2338 - val_loss: 4.4377 - val_acc: 0.3356\n",
            "Epoch 2/25\n",
            "6400/6400 [==============================] - 4s 617us/step - loss: 3.2742 - acc: 0.5955 - val_loss: 3.9170 - val_acc: 0.3625\n",
            "Epoch 3/25\n",
            "6400/6400 [==============================] - 4s 617us/step - loss: 2.3866 - acc: 0.7827 - val_loss: 3.6801 - val_acc: 0.3806\n",
            "Epoch 4/25\n",
            "6400/6400 [==============================] - 4s 616us/step - loss: 1.6124 - acc: 0.8505 - val_loss: 3.4184 - val_acc: 0.3769\n",
            "Epoch 5/25\n",
            "6400/6400 [==============================] - 4s 615us/step - loss: 1.3113 - acc: 0.9144 - val_loss: 3.3441 - val_acc: 0.3881\n",
            "Epoch 6/25\n",
            "6400/6400 [==============================] - 4s 614us/step - loss: 1.2487 - acc: 0.9234 - val_loss: 3.3216 - val_acc: 0.3900\n",
            "Epoch 7/25\n",
            "6400/6400 [==============================] - 4s 615us/step - loss: 1.2161 - acc: 0.9252 - val_loss: 3.3259 - val_acc: 0.3906\n",
            "Epoch 8/25\n",
            "6400/6400 [==============================] - 4s 615us/step - loss: 1.2057 - acc: 0.9259 - val_loss: 3.3179 - val_acc: 0.3981\n",
            "Epoch 9/25\n",
            "6400/6400 [==============================] - 4s 615us/step - loss: 1.2026 - acc: 0.9259 - val_loss: 3.3433 - val_acc: 0.4044\n",
            "Epoch 10/25\n",
            "6400/6400 [==============================] - 4s 614us/step - loss: 1.2012 - acc: 0.9259 - val_loss: 3.3613 - val_acc: 0.4031\n",
            "Epoch 11/25\n",
            "6400/6400 [==============================] - 4s 614us/step - loss: 1.1999 - acc: 0.9259 - val_loss: 3.3575 - val_acc: 0.4119\n",
            "Epoch 12/25\n",
            "6400/6400 [==============================] - 4s 614us/step - loss: 1.1990 - acc: 0.9259 - val_loss: 3.3677 - val_acc: 0.4088\n",
            "Epoch 13/25\n",
            "6400/6400 [==============================] - 4s 614us/step - loss: 1.1983 - acc: 0.9259 - val_loss: 3.3871 - val_acc: 0.4131\n",
            "Epoch 14/25\n",
            "6400/6400 [==============================] - 4s 616us/step - loss: 1.1977 - acc: 0.9259 - val_loss: 3.3922 - val_acc: 0.4125\n",
            "Epoch 15/25\n",
            "6400/6400 [==============================] - 4s 613us/step - loss: 1.1973 - acc: 0.9259 - val_loss: 3.4055 - val_acc: 0.4106\n",
            "Epoch 16/25\n",
            "6400/6400 [==============================] - 4s 613us/step - loss: 1.1971 - acc: 0.9259 - val_loss: 3.4115 - val_acc: 0.4131\n",
            "Epoch 17/25\n",
            "6400/6400 [==============================] - 4s 617us/step - loss: 1.1912 - acc: 0.9256 - val_loss: 3.3911 - val_acc: 0.4100\n",
            "Epoch 18/25\n",
            "6400/6400 [==============================] - 4s 614us/step - loss: 1.0702 - acc: 0.9250 - val_loss: 3.3984 - val_acc: 0.3975\n",
            "Epoch 19/25\n",
            "6400/6400 [==============================] - 4s 613us/step - loss: 0.9985 - acc: 0.9381 - val_loss: 3.3100 - val_acc: 0.4050\n",
            "Epoch 20/25\n",
            "6400/6400 [==============================] - 4s 614us/step - loss: 0.9879 - acc: 0.9391 - val_loss: 3.3099 - val_acc: 0.4131\n",
            "Epoch 21/25\n",
            "6400/6400 [==============================] - 4s 615us/step - loss: 0.9858 - acc: 0.9391 - val_loss: 3.3010 - val_acc: 0.4169\n",
            "Epoch 22/25\n",
            "6400/6400 [==============================] - 4s 613us/step - loss: 0.9851 - acc: 0.9391 - val_loss: 3.3122 - val_acc: 0.4150\n",
            "Epoch 23/25\n",
            "6400/6400 [==============================] - 4s 615us/step - loss: 0.9845 - acc: 0.9391 - val_loss: 3.3282 - val_acc: 0.4169\n",
            "Epoch 24/25\n",
            "6400/6400 [==============================] - 4s 615us/step - loss: 0.9842 - acc: 0.9391 - val_loss: 3.3275 - val_acc: 0.4175\n",
            "Epoch 25/25\n",
            "6400/6400 [==============================] - 4s 616us/step - loss: 0.9840 - acc: 0.9391 - val_loss: 3.3371 - val_acc: 0.4163\n",
            "2000/2000 [==============================] - 0s 176us/step\n",
            "Test loss: 3.5540954666137696\n",
            "Test accuracy: 0.4035\n",
            "dict_keys(['val_loss', 'val_acc', 'loss', 'acc'])\n"
          ],
          "name": "stdout"
        },
        {
          "output_type": "display_data",
          "data": {
            "image/png": "[encoded data removed]",
            "text/plain": [
              "<Figure size 432x288 with 1 Axes>"
            ]
          },
          "metadata": {
            "tags": []
          }
        },
        {
          "output_type": "display_data",
          "data": {
            "image/png": "[encoded data removed]",
            "text/plain": [
              "<Figure size 432x288 with 1 Axes>"
            ]
          },
          "metadata": {
            "tags": []
          }
        }
      ]
    },
    {
      "cell_type": "markdown",
      "metadata": {
        "colab_type": "text",
        "id": "8hsFz0deKb-c"
      },
      "source": [
        "LSTM avec 2 inputs"
      ]
    },
    {
      "cell_type": "code",
      "metadata": {
        "colab_type": "code",
        "id": "N0NCnlBIgu-D",
        "outputId": "3ec449e2-4534-4f5d-a12e-a47aba2a65ee",
        "colab": {
          "base_uri": "https://localhost:8080/",
          "height": 1000
        }
      },
      "source": [
        "# Entrée 01\n",
        "model_title = Sequential()\n",
        "model_title.add(Embedding(embedding_matrix_title.shape[0], embedding_matrix_title.shape[1], input_length = INPUT_LENGTH_TITLE,\n",
        "                          weights=[embedding_matrix_title], \n",
        "                          trainable=True,\n",
        "                          ))\n",
        "model_title.add(SpatialDropout1D(0.5))\n",
        "model_title.add(Bidirectional(LSTM(LSTM_OUT)))\n",
        "model_title.add(Dropout(0.2))\n",
        "\n",
        "# Entrée 02\n",
        "model_abstract = Sequential()\n",
        "model_abstract.add(Embedding(embedding_matrix_abstract.shape[0], embedding_matrix_abstract.shape[1], input_length = INPUT_LENGTH_ABSTRACT,\n",
        "                           weights=[embedding_matrix_abstract], \n",
        "                           trainable=True\n",
        "                             ))\n",
        "model_abstract.add(SpatialDropout1D(0.5))\n",
        "model_abstract.add(Bidirectional(LSTM(LSTM_OUT)))\n",
        "model_abstract.add(Dropout(0.2))\n",
        "\n",
        "# Concaténation\n",
        "concat_layers = concatenate([model_title.output, model_abstract.output], axis=-1)\n",
        "layer = Dense(OUTPUT)(concat_layers)\n",
        "outlayer = Activation('softmax')(layer)\n",
        "model = Model([model_title.input, model_abstract.input], [outlayer])\n",
        "\n",
        "# Compilation\n",
        "model.compile(loss = 'sparse_categorical_crossentropy', optimizer='adam',metrics = ['accuracy'])\n",
        "print(model.summary())\n",
        "history = model.fit([np.array(X_train_title_seq), np.array(X_train_abstract_seq)], np.array(Y_train_id), batch_size = 128, epochs = 10,\n",
        "verbose = VERBOSE, validation_split = VALIDATION_SPLIT)\n",
        "score = model.evaluate([np.array(X_test_title_seq), np.array(X_test_abstract_seq)], np.array(Y_test_id), verbose = VERBOSE)\n",
        "print(\"Test loss:\", score[0])\n",
        "print('Test accuracy:', score[1])\n",
        "\n",
        "# list de données dans l'historique\n",
        "print(history.history.keys())\n",
        "\n",
        "# plot pour comparer accuracy et validate accuracy\n",
        "plt.plot(history.history['acc'])\n",
        "plt.plot(history.history['val_acc'])\n",
        "plt.title('model accuracy')\n",
        "plt.ylabel('accuracy')\n",
        "plt.xlabel('epoch')\n",
        "plt.legend(['train', 'test'], loc = 'upper left')\n",
        "plt.show()\n",
        "\n",
        "# plot pour comparer loss et validation loss\n",
        "plt.plot(history.history['loss'])\n",
        "plt.plot(history.history['val_loss'])\n",
        "plt.title('model loss')\n",
        "plt.ylabel('loss')\n",
        "plt.xlabel('epoch')\n",
        "plt.legend(['train', 'test'], loc = 'upper left')\n",
        "plt.show()"
      ],
      "execution_count": 0,
      "outputs": [
        {
          "output_type": "stream",
          "text": [
            "Model: \"model_4\"\n",
            "__________________________________________________________________________________________________\n",
            "Layer (type)                    Output Shape         Param #     Connected to                     \n",
            "==================================================================================================\n",
            "embedding_13_input (InputLayer) (None, 40)           0                                            \n",
            "__________________________________________________________________________________________________\n",
            "embedding_14_input (InputLayer) (None, 1200)         0                                            \n",
            "__________________________________________________________________________________________________\n",
            "embedding_13 (Embedding)        (None, 40, 300)      3650400     embedding_13_input[0][0]         \n",
            "__________________________________________________________________________________________________\n",
            "embedding_14 (Embedding)        (None, 1200, 300)    12193200    embedding_14_input[0][0]         \n",
            "__________________________________________________________________________________________________\n",
            "spatial_dropout1d_10 (SpatialDr (None, 40, 300)      0           embedding_13[0][0]               \n",
            "__________________________________________________________________________________________________\n",
            "spatial_dropout1d_11 (SpatialDr (None, 1200, 300)    0           embedding_14[0][0]               \n",
            "__________________________________________________________________________________________________\n",
            "bidirectional_10 (Bidirectional (None, 256)          439296      spatial_dropout1d_10[0][0]       \n",
            "__________________________________________________________________________________________________\n",
            "bidirectional_11 (Bidirectional (None, 256)          439296      spatial_dropout1d_11[0][0]       \n",
            "__________________________________________________________________________________________________\n",
            "dropout_13 (Dropout)            (None, 256)          0           bidirectional_10[0][0]           \n",
            "__________________________________________________________________________________________________\n",
            "dropout_14 (Dropout)            (None, 256)          0           bidirectional_11[0][0]           \n",
            "__________________________________________________________________________________________________\n",
            "concatenate_4 (Concatenate)     (None, 512)          0           dropout_13[0][0]                 \n",
            "                                                                 dropout_14[0][0]                 \n",
            "__________________________________________________________________________________________________\n",
            "dense_10 (Dense)                (None, 97)           49761       concatenate_4[0][0]              \n",
            "__________________________________________________________________________________________________\n",
            "activation_13 (Activation)      (None, 97)           0           dense_10[0][0]                   \n",
            "==================================================================================================\n",
            "Total params: 16,771,953\n",
            "Trainable params: 16,771,953\n",
            "Non-trainable params: 0\n",
            "__________________________________________________________________________________________________\n",
            "None\n",
            "Train on 6400 samples, validate on 1600 samples\n",
            "Epoch 1/10\n",
            "6400/6400 [==============================] - 196s 31ms/step - loss: 3.3779 - acc: 0.2291 - val_loss: 2.9542 - val_acc: 0.2838\n",
            "Epoch 2/10\n",
            "6400/6400 [==============================] - 189s 29ms/step - loss: 2.7129 - acc: 0.3275 - val_loss: 2.5358 - val_acc: 0.3519\n",
            "Epoch 3/10\n",
            "6400/6400 [==============================] - 187s 29ms/step - loss: 2.3716 - acc: 0.3791 - val_loss: 2.3943 - val_acc: 0.3669\n",
            "Epoch 4/10\n",
            "6400/6400 [==============================] - 184s 29ms/step - loss: 2.1297 - acc: 0.4330 - val_loss: 2.2554 - val_acc: 0.3925\n",
            "Epoch 5/10\n",
            "6400/6400 [==============================] - 184s 29ms/step - loss: 1.9302 - acc: 0.4781 - val_loss: 2.2336 - val_acc: 0.4037\n",
            "Epoch 6/10\n",
            "6400/6400 [==============================] - 183s 29ms/step - loss: 1.7484 - acc: 0.5219 - val_loss: 2.1951 - val_acc: 0.4094\n",
            "Epoch 7/10\n",
            "6400/6400 [==============================] - 181s 28ms/step - loss: 1.5835 - acc: 0.5600 - val_loss: 2.1787 - val_acc: 0.4194\n",
            "Epoch 8/10\n",
            "6400/6400 [==============================] - 184s 29ms/step - loss: 1.4231 - acc: 0.6050 - val_loss: 2.1720 - val_acc: 0.4244\n",
            "Epoch 9/10\n",
            "6400/6400 [==============================] - 180s 28ms/step - loss: 1.2660 - acc: 0.6508 - val_loss: 2.2042 - val_acc: 0.4300\n",
            "Epoch 10/10\n",
            "6400/6400 [==============================] - 180s 28ms/step - loss: 1.1392 - acc: 0.6780 - val_loss: 2.2322 - val_acc: 0.4350\n",
            "2000/2000 [==============================] - 73s 37ms/step\n",
            "Test loss: 2.2876340103149415\n",
            "Test accuracy: 0.427\n",
            "dict_keys(['val_loss', 'val_acc', 'loss', 'acc'])\n"
          ],
          "name": "stdout"
        },
        {
          "output_type": "display_data",
          "data": {
            "image/png": "[encoded data removed]",
            "text/plain": [
              "<Figure size 432x288 with 1 Axes>"
            ]
          },
          "metadata": {
            "tags": []
          }
        },
        {
          "output_type": "display_data",
          "data": {
            "image/png": "[encoded data removed]",
            "text/plain": [
              "<Figure size 432x288 with 1 Axes>"
            ]
          },
          "metadata": {
            "tags": []
          }
        }
      ]
    },
    {
      "cell_type": "markdown",
      "metadata": {
        "colab_type": "text",
        "id": "LDpxa-cehxAj"
      },
      "source": [
        "### Autres modèles: \n",
        "Dans cette partie nous allons explorer quelques modèles parmi  ceux que nous avons utilisés avant de fixer notre choix"
      ]
    },
    {
      "cell_type": "markdown",
      "metadata": {
        "colab_type": "text",
        "id": "2uxdXU7xl0sn"
      },
      "source": [
        "### 1. Embedding et GlobalMaxPooling1D\n",
        "\n",
        "\n",
        "\n"
      ]
    },
    {
      "cell_type": "code",
      "metadata": {
        "colab_type": "code",
        "id": "8KU3VDDZl1Jt",
        "outputId": "cb6fd61d-e1ed-423a-d8d5-c71b9c435941",
        "colab": {
          "base_uri": "https://localhost:8080/",
          "height": 714
        }
      },
      "source": [
        "# Model avec Embedding et GlobalMaxPooling1D\n",
        "# Définir le modèle\n",
        "model_EMBED_MAX = Sequential()\n",
        "model_EMBED_MAX.add(Embedding(INPUT_DIM_TITLE, EMBED_DIM, input_length = INPUT_LENGTH_TITLE))\n",
        "model_EMBED_MAX.add(GlobalMaxPooling1D())\n",
        "model_EMBED_MAX.add(Dense(OUTPUT))\n",
        "model_EMBED_MAX.add(Activation('softmax'))\n",
        "model_EMBED_MAX.compile(loss = 'sparse_categorical_crossentropy', optimizer='adam',metrics = ['accuracy'])\n",
        "print(model_EMBED_MAX.summary())\n",
        "# Compiler le modèle\n",
        "history = model_EMBED_MAX.fit(X_train_title_seq, Y_train_id,  epochs = 10,  verbose = VERBOSE, \n",
        "                                  validation_split = VALIDATION_SPLIT, batch_size = BATCH_SIZE)\n",
        "# Evaluer le modèle\n",
        "score = model_EMBED_MAX.evaluate(np.array(X_test_title_seq), np.array(Y_test_id), verbose = VERBOSE)\n",
        "print(\"Test loss:\", score[0])\n",
        "print('Test accuracy:', score[1])"
      ],
      "execution_count": 0,
      "outputs": [
        {
          "output_type": "stream",
          "text": [
            "Model: \"sequential_47\"\n",
            "_________________________________________________________________\n",
            "Layer (type)                 Output Shape              Param #   \n",
            "=================================================================\n",
            "embedding_47 (Embedding)     (None, 40, 256)           3115008   \n",
            "_________________________________________________________________\n",
            "global_max_pooling1d_45 (Glo (None, 256)               0         \n",
            "_________________________________________________________________\n",
            "dense_47 (Dense)             (None, 97)                24929     \n",
            "_________________________________________________________________\n",
            "activation_86 (Activation)   (None, 97)                0         \n",
            "=================================================================\n",
            "Total params: 3,139,937\n",
            "Trainable params: 3,139,937\n",
            "Non-trainable params: 0\n",
            "_________________________________________________________________\n",
            "None\n",
            "Train on 6400 samples, validate on 1600 samples\n",
            "Epoch 1/10\n",
            "6400/6400 [==============================] - 7s 1ms/step - loss: 4.2504 - acc: 0.2017 - val_loss: 3.8740 - val_acc: 0.2106\n",
            "Epoch 2/10\n",
            "6400/6400 [==============================] - 0s 50us/step - loss: 3.5556 - acc: 0.2069 - val_loss: 3.4122 - val_acc: 0.1812\n",
            "Epoch 3/10\n",
            "6400/6400 [==============================] - 0s 52us/step - loss: 3.3088 - acc: 0.2003 - val_loss: 3.3046 - val_acc: 0.2281\n",
            "Epoch 4/10\n",
            "6400/6400 [==============================] - 0s 51us/step - loss: 3.1640 - acc: 0.2527 - val_loss: 3.1898 - val_acc: 0.2550\n",
            "Epoch 5/10\n",
            "6400/6400 [==============================] - 0s 52us/step - loss: 2.9980 - acc: 0.2803 - val_loss: 3.0775 - val_acc: 0.2787\n",
            "Epoch 6/10\n",
            "6400/6400 [==============================] - 0s 50us/step - loss: 2.8185 - acc: 0.3091 - val_loss: 2.9736 - val_acc: 0.3069\n",
            "Epoch 7/10\n",
            "6400/6400 [==============================] - 0s 47us/step - loss: 2.6211 - acc: 0.3636 - val_loss: 2.8708 - val_acc: 0.3244\n",
            "Epoch 8/10\n",
            "6400/6400 [==============================] - 0s 51us/step - loss: 2.4103 - acc: 0.4197 - val_loss: 2.7810 - val_acc: 0.3419\n",
            "Epoch 9/10\n",
            "6400/6400 [==============================] - 0s 49us/step - loss: 2.1916 - acc: 0.4806 - val_loss: 2.7003 - val_acc: 0.3644\n",
            "Epoch 10/10\n",
            "6400/6400 [==============================] - 0s 49us/step - loss: 1.9713 - acc: 0.5442 - val_loss: 2.6354 - val_acc: 0.3675\n",
            "2000/2000 [==============================] - 0s 68us/step\n",
            "Test loss: 2.702503034591675\n",
            "Test accuracy: 0.3555\n"
          ],
          "name": "stdout"
        }
      ]
    },
    {
      "cell_type": "markdown",
      "metadata": {
        "colab_type": "text",
        "id": "_X1K2aI9i1d2"
      },
      "source": [
        "### 2. LSTM simple"
      ]
    },
    {
      "cell_type": "code",
      "metadata": {
        "colab_type": "code",
        "id": "TdVbQzOgi6iK",
        "outputId": "75fc76e5-1981-469a-aee2-b2a2d87e5739",
        "colab": {
          "base_uri": "https://localhost:8080/",
          "height": 612
        }
      },
      "source": [
        "# Définir le modèle\n",
        "model_LSTM_simple = Sequential()\n",
        "model_LSTM_simple.add(Embedding(INPUT_DIM_TITLE, EMBED_DIM, \n",
        "                          input_length = INPUT_LENGTH_TITLE))\n",
        "model_LSTM_simple.add(LSTM(LSTM_OUT))\n",
        "\n",
        "# Fully connected layer\n",
        "model_LSTM_simple.add(Dense(256, activation='relu'))\n",
        "model_LSTM_simple.add(Dropout(0.3))\n",
        "\n",
        "# Plus ou moins quelques couches cachées (Dense)\n",
        "model_LSTM_simple.add(Dense(OUTPUT))\n",
        "model_LSTM_simple.add(Activation(\"sigmoid\"))\n",
        "model_LSTM_simple.compile(loss=\"sparse_categorical_crossentropy\", optimizer=\"adam\",\n",
        "    metrics=[\"accuracy\"])\n",
        "print(model_LSTM_simple.summary())\n",
        "\n",
        "# Compiler le modèle\n",
        "model_LSTM_simple.compile(loss='sparse_categorical_crossentropy', optimizer='adam', metrics=['accuracy'])\n",
        "history = model_LSTM_simple.fit(X_train_title_seq, Y_train_id,  epochs = 5,  verbose = 1, \n",
        "                                  validation_split=VALIDATION_SPLIT, batch_size = BATCH_SIZE)\n",
        "score = model_LSTM_simple.evaluate(X_test_title_seq, Y_test_id)\n",
        "print('Test score:', score[0])\n",
        "print('Test accuracy:', score[1])"
      ],
      "execution_count": 0,
      "outputs": [
        {
          "output_type": "stream",
          "text": [
            "Model: \"sequential_56\"\n",
            "_________________________________________________________________\n",
            "Layer (type)                 Output Shape              Param #   \n",
            "=================================================================\n",
            "embedding_56 (Embedding)     (None, 40, 256)           3115008   \n",
            "_________________________________________________________________\n",
            "lstm_10 (LSTM)               (None, 128)               197120    \n",
            "_________________________________________________________________\n",
            "dense_58 (Dense)             (None, 256)               33024     \n",
            "_________________________________________________________________\n",
            "dropout_46 (Dropout)         (None, 256)               0         \n",
            "_________________________________________________________________\n",
            "dense_59 (Dense)             (None, 97)                24929     \n",
            "_________________________________________________________________\n",
            "activation_94 (Activation)   (None, 97)                0         \n",
            "=================================================================\n",
            "Total params: 3,370,081\n",
            "Trainable params: 3,370,081\n",
            "Non-trainable params: 0\n",
            "_________________________________________________________________\n",
            "None\n",
            "Train on 6400 samples, validate on 1600 samples\n",
            "Epoch 1/5\n",
            "6400/6400 [==============================] - 14s 2ms/step - loss: 3.9219 - acc: 0.1122 - val_loss: 3.5609 - val_acc: 0.0669\n",
            "Epoch 2/5\n",
            "6400/6400 [==============================] - 4s 680us/step - loss: 3.6145 - acc: 0.1009 - val_loss: 3.5283 - val_acc: 0.1812\n",
            "Epoch 3/5\n",
            "6400/6400 [==============================] - 5s 730us/step - loss: 3.5853 - acc: 0.1745 - val_loss: 3.5168 - val_acc: 0.1812\n",
            "Epoch 4/5\n",
            "6400/6400 [==============================] - 5s 711us/step - loss: 3.5596 - acc: 0.1908 - val_loss: 3.5072 - val_acc: 0.1812\n",
            "Epoch 5/5\n",
            "6400/6400 [==============================] - 5s 714us/step - loss: 3.5454 - acc: 0.1917 - val_loss: 3.4813 - val_acc: 0.1812\n",
            "2000/2000 [==============================] - 2s 1ms/step\n",
            "Test score: 3.5225637130737306\n",
            "Test accuracy: 0.1845\n"
          ],
          "name": "stdout"
        }
      ]
    },
    {
      "cell_type": "markdown",
      "metadata": {
        "colab_type": "text",
        "id": "KrBquVcJIxdu"
      },
      "source": [
        "### 3. CNN-LSTM\n",
        "\n",
        "Nous allons testé cette combinaison avec les abstracts"
      ]
    },
    {
      "cell_type": "code",
      "metadata": {
        "colab_type": "code",
        "id": "7p2DdJdLI1zN",
        "outputId": "7dd2506e-9e2a-48f5-90d6-1d4857d63e4a",
        "colab": {
          "base_uri": "https://localhost:8080/",
          "height": 1000
        }
      },
      "source": [
        "# Définir le modèle\n",
        "model_LSTM_CNN_abstract = Sequential()\n",
        "model_LSTM_CNN_abstract.add(Embedding(INPUT_DIM_ABSTRACT, EMBED_DIM, \n",
        "                                  input_length = INPUT_LENGTH_ABSTRACT))\n",
        "model_LSTM_CNN_abstract.add(Dropout(0.25))\n",
        "model_LSTM_CNN_abstract.add(Conv1D(FILTERS,\n",
        "                 KERNEL_SIZE,\n",
        "                 padding='valid',\n",
        "                 activation='relu',\n",
        "                 strides=1))\n",
        "model_LSTM_CNN_abstract.add(MaxPooling1D(10))\n",
        "model_LSTM_CNN_abstract.add(LSTM(LSTM_OUT))\n",
        "model_LSTM_CNN_abstract.add(Dropout(0.2))\n",
        "model_LSTM_CNN_abstract.add(Dense(OUTPUT))\n",
        "model_LSTM_CNN_abstract.add(Activation('softmax'))\n",
        "print(model_LSTM_CNN_abstract.summary())\n",
        "\n",
        "# Compiler le modèle\n",
        "model_LSTM_CNN_abstract.compile(loss='sparse_categorical_crossentropy', optimizer='adam', metrics=['accuracy'])\n",
        "history = model_LSTM_CNN_abstract.fit(X_train_abstract_seq, Y_train_id,  epochs = 5,  verbose = 1, \n",
        "                                  validation_split=VALIDATION_SPLIT, batch_size = BATCH_SIZE)\n",
        "score = model_LSTM_CNN_abstract.evaluate(X_test_abstract_seq, Y_test_id)\n",
        "print('Test score:', score[0])\n",
        "print('Test accuracy:', score[1])\n",
        "\n",
        "# Liste de données dans l'historique\n",
        "print(history.history.keys())\n",
        "\n",
        "# Plot pour comparer accuracy et validate accuracy\n",
        "plt.plot(history.history['acc'])\n",
        "plt.plot(history.history['val_acc'])\n",
        "plt.title('model accuracy')\n",
        "plt.ylabel('accuracy')\n",
        "plt.xlabel('epoch')\n",
        "plt.legend(['train', 'test'], loc = 'upper left')\n",
        "plt.show()\n",
        "\n",
        "# Plot pour comparer loss et validation loss\n",
        "plt.plot(history.history['loss'])\n",
        "plt.plot(history.history['val_loss'])\n",
        "plt.title('model loss')\n",
        "plt.ylabel('loss')\n",
        "plt.xlabel('epoch')\n",
        "plt.legend(['train', 'test'], loc = 'upper left')\n",
        "plt.show()"
      ],
      "execution_count": 0,
      "outputs": [
        {
          "output_type": "stream",
          "text": [
            "Model: \"sequential_55\"\n",
            "_________________________________________________________________\n",
            "Layer (type)                 Output Shape              Param #   \n",
            "=================================================================\n",
            "embedding_53 (Embedding)     (None, 1200, 256)         10404864  \n",
            "_________________________________________________________________\n",
            "dropout_53 (Dropout)         (None, 1200, 256)         0         \n",
            "_________________________________________________________________\n",
            "conv1d_39 (Conv1D)           (None, 1198, 200)         153800    \n",
            "_________________________________________________________________\n",
            "max_pooling1d_4 (MaxPooling1 (None, 119, 200)          0         \n",
            "_________________________________________________________________\n",
            "lstm_19 (LSTM)               (None, 128)               168448    \n",
            "_________________________________________________________________\n",
            "dropout_54 (Dropout)         (None, 128)               0         \n",
            "_________________________________________________________________\n",
            "dense_50 (Dense)             (None, 97)                12513     \n",
            "_________________________________________________________________\n",
            "activation_83 (Activation)   (None, 97)                0         \n",
            "=================================================================\n",
            "Total params: 10,739,625\n",
            "Trainable params: 10,739,625\n",
            "Non-trainable params: 0\n",
            "_________________________________________________________________\n",
            "None\n",
            "Train on 6400 samples, validate on 1600 samples\n",
            "Epoch 1/5\n",
            "6400/6400 [==============================] - 27s 4ms/step - loss: 3.6762 - acc: 0.1820 - val_loss: 3.4684 - val_acc: 0.1812\n",
            "Epoch 2/5\n",
            "6400/6400 [==============================] - 15s 2ms/step - loss: 3.4949 - acc: 0.1913 - val_loss: 3.4649 - val_acc: 0.1812\n",
            "Epoch 3/5\n",
            "6400/6400 [==============================] - 15s 2ms/step - loss: 3.4869 - acc: 0.1917 - val_loss: 3.4647 - val_acc: 0.1812\n",
            "Epoch 4/5\n",
            "6400/6400 [==============================] - 15s 2ms/step - loss: 3.4804 - acc: 0.1916 - val_loss: 3.4663 - val_acc: 0.1812\n",
            "Epoch 5/5\n",
            "6400/6400 [==============================] - 15s 2ms/step - loss: 3.4774 - acc: 0.1916 - val_loss: 3.4623 - val_acc: 0.1812\n",
            "2000/2000 [==============================] - 5s 3ms/step\n",
            "Test score: 3.499610059738159\n",
            "Test accuracy: 0.1845\n",
            "dict_keys(['val_loss', 'val_acc', 'loss', 'acc'])\n"
          ],
          "name": "stdout"
        },
        {
          "output_type": "display_data",
          "data": {
            "image/png": "[encoded data removed]",
            "text/plain": [
              "<Figure size 432x288 with 1 Axes>"
            ]
          },
          "metadata": {
            "tags": []
          }
        },
        {
          "output_type": "display_data",
          "data": {
            "image/png": "[encoded data removed]",
            "text/plain": [
              "<Figure size 432x288 with 1 Axes>"
            ]
          },
          "metadata": {
            "tags": []
          }
        }
      ]
    },
    {
      "cell_type": "markdown",
      "metadata": {
        "colab_type": "text",
        "id": "2Q-znJ9uFnUU"
      },
      "source": [
        "### 4. LSTM ET CNN (2 inputs)"
      ]
    },
    {
      "cell_type": "code",
      "metadata": {
        "colab_type": "code",
        "id": "8tqbNryfFmMH",
        "outputId": "4b8e9178-db02-4c81-993a-51a695172f18",
        "colab": {
          "base_uri": "https://localhost:8080/",
          "height": 1000
        }
      },
      "source": [
        "# Entrée 01\n",
        "model_title = Sequential()\n",
        "model_title.add(Embedding(embedding_matrix_title.shape[0], embedding_matrix_title.shape[1], input_length = INPUT_LENGTH_TITLE,\n",
        "                          weights=[embedding_matrix_title], \n",
        "                          trainable=True,\n",
        "                          ))\n",
        "model_title.add(SpatialDropout1D(0.5))\n",
        "model_title.add(Bidirectional(LSTM(LSTM_OUT)))\n",
        "model_title.add(Dropout(0.2))\n",
        "\n",
        "# Entrée 02\n",
        "\n",
        "model_abstract = Sequential()\n",
        "model_abstract.add(Embedding(embedding_matrix_abstract.shape[0], embedding_matrix_abstract.shape[1], input_length = INPUT_LENGTH_ABSTRACT,\n",
        "                           weights=[embedding_matrix_abstract], \n",
        "                           trainable=True\n",
        "                             ))\n",
        "model_abstract.add(Conv1D(filters = FILTERS, kernel_size = KERNEL_SIZE))\n",
        "model_abstract.add(BatchNormalization(axis=-1))\n",
        "model_abstract.add(Activation('relu'))\n",
        "model_abstract.add(Dropout(0.1))\n",
        "model_abstract.add(GlobalMaxPooling1D())\n",
        "\n",
        "# Concaténation\n",
        "concat_layers = concatenate([model_title.output, model_abstract.output], axis=-1)\n",
        "layer = Dense(OUTPUT)(concat_layers)\n",
        "outlayer = Activation('softmax')(layer)\n",
        "model = Model([model_title.input, model_abstract.input], [outlayer])\n",
        "\n",
        "\n",
        "# Compilation\n",
        "model.compile(loss = 'sparse_categorical_crossentropy', optimizer='adam',metrics = ['accuracy'])\n",
        "print(model.summary())\n",
        "history = model.fit([np.array(X_train_title_seq), np.array(X_train_abstract_seq)], np.array(Y_train_id), batch_size = 128, epochs = 20,\n",
        "verbose = VERBOSE, validation_split = VALIDATION_SPLIT)\n",
        "score = model.evaluate([np.array(X_test_title_seq), np.array(X_test_abstract_seq)], np.array(Y_test_id), verbose = VERBOSE)\n",
        "print(\"Test loss:\", score[0])\n",
        "print('Test accuracy:', score[1])"
      ],
      "execution_count": 0,
      "outputs": [
        {
          "output_type": "stream",
          "text": [
            "Model: \"model_5\"\n",
            "__________________________________________________________________________________________________\n",
            "Layer (type)                    Output Shape         Param #     Connected to                     \n",
            "==================================================================================================\n",
            "embedding_11_input (InputLayer) (None, 1200)         0                                            \n",
            "__________________________________________________________________________________________________\n",
            "embedding_11 (Embedding)        (None, 1200, 300)    12193200    embedding_11_input[0][0]         \n",
            "__________________________________________________________________________________________________\n",
            "embedding_10_input (InputLayer) (None, 40)           0                                            \n",
            "__________________________________________________________________________________________________\n",
            "conv1d_5 (Conv1D)               (None, 1198, 200)    180200      embedding_11[0][0]               \n",
            "__________________________________________________________________________________________________\n",
            "embedding_10 (Embedding)        (None, 40, 300)      3650400     embedding_10_input[0][0]         \n",
            "__________________________________________________________________________________________________\n",
            "batch_normalization_5 (BatchNor (None, 1198, 200)    800         conv1d_5[0][0]                   \n",
            "__________________________________________________________________________________________________\n",
            "spatial_dropout1d_6 (SpatialDro (None, 40, 300)      0           embedding_10[0][0]               \n",
            "__________________________________________________________________________________________________\n",
            "activation_9 (Activation)       (None, 1198, 200)    0           batch_normalization_5[0][0]      \n",
            "__________________________________________________________________________________________________\n",
            "bidirectional_6 (Bidirectional) (None, 256)          439296      spatial_dropout1d_6[0][0]        \n",
            "__________________________________________________________________________________________________\n",
            "dropout_11 (Dropout)            (None, 1198, 200)    0           activation_9[0][0]               \n",
            "__________________________________________________________________________________________________\n",
            "dropout_10 (Dropout)            (None, 256)          0           bidirectional_6[0][0]            \n",
            "__________________________________________________________________________________________________\n",
            "global_max_pooling1d_5 (GlobalM (None, 200)          0           dropout_11[0][0]                 \n",
            "__________________________________________________________________________________________________\n",
            "concatenate_5 (Concatenate)     (None, 456)          0           dropout_10[0][0]                 \n",
            "                                                                 global_max_pooling1d_5[0][0]     \n",
            "__________________________________________________________________________________________________\n",
            "dense_5 (Dense)                 (None, 97)           44329       concatenate_5[0][0]              \n",
            "__________________________________________________________________________________________________\n",
            "activation_10 (Activation)      (None, 97)           0           dense_5[0][0]                    \n",
            "==================================================================================================\n",
            "Total params: 16,508,225\n",
            "Trainable params: 16,507,825\n",
            "Non-trainable params: 400\n",
            "__________________________________________________________________________________________________\n",
            "None\n",
            "Train on 6400 samples, validate on 1600 samples\n",
            "Epoch 1/20\n",
            "6400/6400 [==============================] - 15s 2ms/step - loss: 5.7803 - acc: 0.2409 - val_loss: 4.3453 - val_acc: 0.3269\n",
            "Epoch 2/20\n",
            "6400/6400 [==============================] - 11s 2ms/step - loss: 3.6654 - acc: 0.5144 - val_loss: 4.0969 - val_acc: 0.3563\n",
            "Epoch 3/20\n",
            "6400/6400 [==============================] - 11s 2ms/step - loss: 3.0135 - acc: 0.6973 - val_loss: 4.0180 - val_acc: 0.3825\n",
            "Epoch 4/20\n",
            "6400/6400 [==============================] - 11s 2ms/step - loss: 2.6292 - acc: 0.8130 - val_loss: 3.9887 - val_acc: 0.3856\n",
            "Epoch 5/20\n",
            "6400/6400 [==============================] - 11s 2ms/step - loss: 2.4653 - acc: 0.8470 - val_loss: 4.0163 - val_acc: 0.3837\n",
            "Epoch 6/20\n",
            "6400/6400 [==============================] - 11s 2ms/step - loss: 2.4072 - acc: 0.8530 - val_loss: 3.9868 - val_acc: 0.4037\n",
            "Epoch 7/20\n",
            "6400/6400 [==============================] - 11s 2ms/step - loss: 2.3873 - acc: 0.8534 - val_loss: 3.9872 - val_acc: 0.4037\n",
            "Epoch 8/20\n",
            "6400/6400 [==============================] - 11s 2ms/step - loss: 2.3789 - acc: 0.8536 - val_loss: 3.9861 - val_acc: 0.3950\n",
            "Epoch 9/20\n",
            "6400/6400 [==============================] - 11s 2ms/step - loss: 2.3749 - acc: 0.8536 - val_loss: 4.0015 - val_acc: 0.4056\n",
            "Epoch 10/20\n",
            "6400/6400 [==============================] - 11s 2ms/step - loss: 2.3716 - acc: 0.8536 - val_loss: 4.0096 - val_acc: 0.4081\n",
            "Epoch 11/20\n",
            "6400/6400 [==============================] - 11s 2ms/step - loss: 2.3695 - acc: 0.8536 - val_loss: 4.0334 - val_acc: 0.4031\n",
            "Epoch 12/20\n",
            "6400/6400 [==============================] - 11s 2ms/step - loss: 2.3681 - acc: 0.8536 - val_loss: 4.0282 - val_acc: 0.4106\n",
            "Epoch 13/20\n",
            "6400/6400 [==============================] - 11s 2ms/step - loss: 2.3670 - acc: 0.8536 - val_loss: 4.0335 - val_acc: 0.4156\n",
            "Epoch 14/20\n",
            "6400/6400 [==============================] - 10s 2ms/step - loss: 2.3660 - acc: 0.8536 - val_loss: 4.0293 - val_acc: 0.4125\n",
            "Epoch 15/20\n",
            "6400/6400 [==============================] - 11s 2ms/step - loss: 2.3654 - acc: 0.8536 - val_loss: 4.0354 - val_acc: 0.4156\n",
            "Epoch 16/20\n",
            "6400/6400 [==============================] - 11s 2ms/step - loss: 2.3647 - acc: 0.8536 - val_loss: 4.0394 - val_acc: 0.4156\n",
            "Epoch 17/20\n",
            "6400/6400 [==============================] - 11s 2ms/step - loss: 2.3642 - acc: 0.8536 - val_loss: 4.0469 - val_acc: 0.4206\n",
            "Epoch 18/20\n",
            "6400/6400 [==============================] - 11s 2ms/step - loss: 2.3638 - acc: 0.8536 - val_loss: 4.0490 - val_acc: 0.4200\n",
            "Epoch 19/20\n",
            "6400/6400 [==============================] - 11s 2ms/step - loss: 2.3635 - acc: 0.8536 - val_loss: 4.0514 - val_acc: 0.4225\n",
            "Epoch 20/20\n",
            "6400/6400 [==============================] - 10s 2ms/step - loss: 2.3631 - acc: 0.8536 - val_loss: 4.0626 - val_acc: 0.4206\n",
            "2000/2000 [==============================] - 4s 2ms/step\n",
            "Test loss: 4.366263553619385\n",
            "Test accuracy: 0.404\n"
          ],
          "name": "stdout"
        }
      ]
    },
    {
      "cell_type": "markdown",
      "metadata": {
        "colab_type": "text",
        "id": "uLcwFw5f8SgA"
      },
      "source": [
        "### La racinisation (stemming)\n",
        "\n",
        "  Le processus de « stemming » consiste à représenter les mots sous leur forme \n",
        "canonique. Dans notre cas, ce processus a diminué l'accuracy une fois combiné avec Glove "
      ]
    },
    {
      "cell_type": "code",
      "metadata": {
        "colab_type": "code",
        "id": "q34sK5cXLLt9",
        "colab": {}
      },
      "source": [
        "# Pour stemmer\n",
        "from nltk.stem.porter import PorterStemmer\n",
        "porter = PorterStemmer()\n",
        "\n",
        "def words_stemming(list_of_sentences):\n",
        "  for sentence in range(len(list_of_sentences)):\n",
        "    word_tokens = word_tokenize(list_of_sentences[sentence])\n",
        "    list_of_sentences[sentence] = ' '.join([porter.stem(word) for word in word_tokens])\n",
        "  return list_of_sentences"
      ],
      "execution_count": 0,
      "outputs": []
    },
    {
      "cell_type": "code",
      "metadata": {
        "colab_type": "code",
        "id": "SYAjnzuE8eMd",
        "colab": {}
      },
      "source": [
        "# X_train_title\n",
        "X_train_title = words_stemming(X_train_title)\n",
        "# X_train_abstract\n",
        "X_train_abstract = words_stemming(X_train_abstract)\n",
        "# X_test_title\n",
        "X_test_title = words_stemming(X_test_title)\n",
        "# X_test_abstract\n",
        "X_test_abstract = words_stemming(X_test_abstract)"
      ],
      "execution_count": 0,
      "outputs": []
    },
    {
      "cell_type": "code",
      "metadata": {
        "colab_type": "code",
        "id": "dCxyYk2vHktW",
        "outputId": "eea7d564-3e09-4abb-ace7-ea254f581a2a",
        "colab": {
          "base_uri": "https://localhost:8080/",
          "height": 51
        }
      },
      "source": [
        "title_max_len_cars = max(len((max(X_train_title, key=len))), len((max(X_test_title, key=len))))\n",
        "title_max_len_words = max(len(max(X_train_title, key=len).split()), len(max(X_test_title, key=len).split()))\n",
        "abstract_max_len_cars = max(len((max(X_train_abstract, key=len))), len((max(X_test_abstract, key=len))))\n",
        "abstract_max_len_words = max(len(max(X_train_abstract, key=len).split()), len(max(X_test_abstract, key=len).split()))\n",
        "\n",
        "print(f'Le nombre max des mots dans un titre est : {title_max_len_words}')\n",
        "print(f'Le nombre max des mots dans un abstract est : {abstract_max_len_words}')"
      ],
      "execution_count": 0,
      "outputs": [
        {
          "output_type": "stream",
          "text": [
            "Le nombre max des mots dans un titre est : 34\n",
            "Le nombre max des mots dans un abstract est : 1032\n"
          ],
          "name": "stdout"
        }
      ]
    },
    {
      "cell_type": "code",
      "metadata": {
        "colab_type": "code",
        "id": "gQ0LzSZ888Ss",
        "colab": {}
      },
      "source": [
        "tokenizer_title = tf.keras.preprocessing.text.Tokenizer(filters='!\"#$%&()*+,-./:;<=>?@[\\\\]^_`{|}~\\t\\n', lower=True, split=' ')\n",
        "tokenizer_title.fit_on_texts(X_train_title)\n",
        "\n",
        "word_index_title = tokenizer_title.word_index\n",
        "word_counts_title = tokenizer_title.word_counts\n",
        "document_count_title = tokenizer_title.document_count\n",
        "word_docs_title = tokenizer_title.word_docs\n",
        "\n",
        "# Transformer les textes en vecteurs numeriques à l'aide du tokenizer\n",
        "X_train_title_seq = tokenizer_title.texts_to_sequences(X_train_title)\n",
        "X_test_title_seq = tokenizer_title.texts_to_sequences(X_test_title)\n",
        "\n",
        "# Padding des sequences\n",
        "X_train_title_seq = sequence.pad_sequences(X_train_title_seq, maxlen = 40, padding = 'post', truncating='post')\n",
        "X_test_title_seq = sequence.pad_sequences(X_test_title_seq, maxlen = 40, padding = 'post', truncating='post')"
      ],
      "execution_count": 0,
      "outputs": []
    },
    {
      "cell_type": "code",
      "metadata": {
        "colab_type": "code",
        "id": "akbKgUaEHy0u",
        "colab": {}
      },
      "source": [
        "\n",
        "tokenizer_abstract = tf.keras.preprocessing.text.Tokenizer(filters='!\"#$%&()*+,-./:;<=>?@[\\\\]^_`{|}~\\t\\n', lower=True, split=' ')\n",
        "tokenizer_abstract.fit_on_texts(X_train_abstract)\n",
        "\n",
        "word_index_abstract = tokenizer_abstract.word_index\n",
        "word_counts_abstract = tokenizer_abstract.word_counts\n",
        "document_count_abstract = tokenizer_abstract.document_count\n",
        "word_docs_abstract = tokenizer_abstract.word_docs\n",
        "\n",
        "# Transformer les textes en vecteurs numeriques à l'aide du tokenizer\n",
        "X_train_abstract_seq = tokenizer_abstract.texts_to_sequences(X_train_abstract)\n",
        "X_test_abstract_seq = tokenizer_abstract.texts_to_sequences(X_test_abstract)\n",
        "\n",
        "# Padding des sequences\n",
        "X_train_abstract_seq = tf.keras.preprocessing.sequence.pad_sequences(X_train_abstract_seq, maxlen = 1200, padding = 'post', truncating='post')\n",
        "X_test_abstract_seq = tf.keras.preprocessing.sequence.pad_sequences(X_test_abstract_seq, maxlen = 1200, padding = 'post', truncating='post')"
      ],
      "execution_count": 0,
      "outputs": []
    },
    {
      "cell_type": "code",
      "metadata": {
        "colab_type": "code",
        "id": "6URIj3NbJ1IV",
        "outputId": "1f2366cb-836b-44e3-e543-64b2f25ed8f7",
        "colab": {
          "base_uri": "https://localhost:8080/",
          "height": 1000
        }
      },
      "source": [
        "# Entrée 01\n",
        "model_title = Sequential()\n",
        "model_title.add(Embedding(embedding_matrix_title.shape[0], embedding_matrix_title.shape[1], input_length = INPUT_LENGTH_TITLE,\n",
        "                          weights=[embedding_matrix_title], \n",
        "                          trainable=True,\n",
        "                          ))\n",
        "model_title.add(SpatialDropout1D(0.5))\n",
        "model_title.add(Bidirectional(LSTM(LSTM_OUT)))\n",
        "model_title.add(Dropout(0.2))\n",
        "\n",
        "# Entrée 02\n",
        "model_abstract = Sequential()\n",
        "model_abstract.add(Embedding(embedding_matrix_abstract.shape[0], embedding_matrix_abstract.shape[1], input_length = INPUT_LENGTH_ABSTRACT,\n",
        "                           weights=[embedding_matrix_abstract], \n",
        "                           trainable=True\n",
        "                             ))\n",
        "model_abstract.add(SpatialDropout1D(0.5))\n",
        "model_abstract.add(Bidirectional(LSTM(LSTM_OUT)))\n",
        "model_abstract.add(Dropout(0.2))\n",
        "\n",
        "# Concaténation\n",
        "concat_layers = concatenate([model_title.output, model_abstract.output], axis=-1)\n",
        "layer = Dense(OUTPUT)(concat_layers)\n",
        "outlayer = Activation('softmax')(layer)\n",
        "model = Model([model_title.input, model_abstract.input], [outlayer])\n",
        "\n",
        "# Compilation\n",
        "model.compile(loss = 'sparse_categorical_crossentropy', optimizer='adam',metrics = ['accuracy'])\n",
        "print(model.summary())\n",
        "history = model.fit([np.array(X_train_title_seq), np.array(X_train_abstract_seq)], np.array(Y_train_id), batch_size = 256, epochs = 10,\n",
        "verbose = VERBOSE, validation_split = VALIDATION_SPLIT)\n",
        "score = model.evaluate([np.array(X_test_title_seq), np.array(X_test_abstract_seq)], np.array(Y_test_id), verbose = VERBOSE)\n",
        "print(\"Test loss:\", score[0])\n",
        "print('Test accuracy:', score[1])\n",
        "\n",
        "# list de données dans l'historique\n",
        "print(history.history.keys())\n",
        "\n",
        "# plot pour comparer accuracy et validate accuracy\n",
        "plt.plot(history.history['acc'])\n",
        "plt.plot(history.history['val_acc'])\n",
        "plt.title('model accuracy')\n",
        "plt.ylabel('accuracy')\n",
        "plt.xlabel('epoch')\n",
        "plt.legend(['train', 'test'], loc = 'upper left')\n",
        "plt.show()\n",
        "\n",
        "# plot pour comparer loss et validation loss\n",
        "plt.plot(history.history['loss'])\n",
        "plt.plot(history.history['val_loss'])\n",
        "plt.title('model loss')\n",
        "plt.ylabel('loss')\n",
        "plt.xlabel('epoch')\n",
        "plt.legend(['train', 'test'], loc = 'upper left')\n",
        "plt.show()"
      ],
      "execution_count": 0,
      "outputs": [
        {
          "output_type": "stream",
          "text": [
            "Model: \"model_1\"\n",
            "__________________________________________________________________________________________________\n",
            "Layer (type)                    Output Shape         Param #     Connected to                     \n",
            "==================================================================================================\n",
            "embedding_57_input (InputLayer) (None, 40)           0                                            \n",
            "__________________________________________________________________________________________________\n",
            "embedding_58_input (InputLayer) (None, 1200)         0                                            \n",
            "__________________________________________________________________________________________________\n",
            "embedding_57 (Embedding)        (None, 40, 300)      3650400     embedding_57_input[0][0]         \n",
            "__________________________________________________________________________________________________\n",
            "embedding_58 (Embedding)        (None, 1200, 300)    12193200    embedding_58_input[0][0]         \n",
            "__________________________________________________________________________________________________\n",
            "spatial_dropout1d_4 (SpatialDro (None, 40, 300)      0           embedding_57[0][0]               \n",
            "__________________________________________________________________________________________________\n",
            "spatial_dropout1d_5 (SpatialDro (None, 1200, 300)    0           embedding_58[0][0]               \n",
            "__________________________________________________________________________________________________\n",
            "bidirectional_3 (Bidirectional) (None, 256)          439296      spatial_dropout1d_4[0][0]        \n",
            "__________________________________________________________________________________________________\n",
            "bidirectional_4 (Bidirectional) (None, 256)          439296      spatial_dropout1d_5[0][0]        \n",
            "__________________________________________________________________________________________________\n",
            "dropout_47 (Dropout)            (None, 256)          0           bidirectional_3[0][0]            \n",
            "__________________________________________________________________________________________________\n",
            "dropout_48 (Dropout)            (None, 256)          0           bidirectional_4[0][0]            \n",
            "__________________________________________________________________________________________________\n",
            "concatenate_1 (Concatenate)     (None, 512)          0           dropout_47[0][0]                 \n",
            "                                                                 dropout_48[0][0]                 \n",
            "__________________________________________________________________________________________________\n",
            "dense_60 (Dense)                (None, 97)           49761       concatenate_1[0][0]              \n",
            "__________________________________________________________________________________________________\n",
            "activation_95 (Activation)      (None, 97)           0           dense_60[0][0]                   \n",
            "==================================================================================================\n",
            "Total params: 16,771,953\n",
            "Trainable params: 16,771,953\n",
            "Non-trainable params: 0\n",
            "__________________________________________________________________________________________________\n",
            "None\n",
            "Train on 6400 samples, validate on 1600 samples\n",
            "Epoch 1/10\n",
            "6400/6400 [==============================] - 155s 24ms/step - loss: 3.6506 - acc: 0.1764 - val_loss: 3.3845 - val_acc: 0.2062\n",
            "Epoch 2/10\n",
            "6400/6400 [==============================] - 142s 22ms/step - loss: 3.3165 - acc: 0.2225 - val_loss: 3.2077 - val_acc: 0.2444\n",
            "Epoch 3/10\n",
            "6400/6400 [==============================] - 143s 22ms/step - loss: 3.0858 - acc: 0.2712 - val_loss: 3.0167 - val_acc: 0.2863\n",
            "Epoch 4/10\n",
            "6400/6400 [==============================] - 142s 22ms/step - loss: 2.8504 - acc: 0.3095 - val_loss: 2.8162 - val_acc: 0.3219\n",
            "Epoch 5/10\n",
            "6400/6400 [==============================] - 143s 22ms/step - loss: 2.6154 - acc: 0.3522 - val_loss: 2.6864 - val_acc: 0.3350\n",
            "Epoch 6/10\n",
            "6400/6400 [==============================] - 143s 22ms/step - loss: 2.4125 - acc: 0.3933 - val_loss: 2.6089 - val_acc: 0.3563\n",
            "Epoch 7/10\n",
            "6400/6400 [==============================] - 143s 22ms/step - loss: 2.2213 - acc: 0.4228 - val_loss: 2.5581 - val_acc: 0.3606\n",
            "Epoch 8/10\n",
            "6400/6400 [==============================] - 143s 22ms/step - loss: 2.0492 - acc: 0.4714 - val_loss: 2.5231 - val_acc: 0.3769\n",
            "Epoch 9/10\n",
            "6400/6400 [==============================] - 143s 22ms/step - loss: 1.9135 - acc: 0.4927 - val_loss: 2.4849 - val_acc: 0.3900\n",
            "Epoch 10/10\n",
            "6400/6400 [==============================] - 143s 22ms/step - loss: 1.7456 - acc: 0.5364 - val_loss: 2.4883 - val_acc: 0.3894\n",
            "2000/2000 [==============================] - 113s 56ms/step\n",
            "Test loss: 2.5570218505859375\n",
            "Test accuracy: 0.377\n",
            "dict_keys(['val_loss', 'val_acc', 'loss', 'acc'])\n"
          ],
          "name": "stdout"
        },
        {
          "output_type": "display_data",
          "data": {
            "image/png": "[encoded data removed]",
            "text/plain": [
              "<Figure size 432x288 with 1 Axes>"
            ]
          },
          "metadata": {
            "tags": []
          }
        },
        {
          "output_type": "display_data",
          "data": {
            "image/png": "[encoded data removed]",
            "text/plain": [
              "<Figure size 432x288 with 1 Axes>"
            ]
          },
          "metadata": {
            "tags": []
          }
        }
      ]
    },
    {
      "cell_type": "code",
      "metadata": {
        "colab_type": "code",
        "id": "ly0ZIgikKAHi",
        "outputId": "4542c4fd-e414-4e15-f0de-1bab87e9d28d",
        "colab": {
          "base_uri": "https://localhost:8080/",
          "height": 1000
        }
      },
      "source": [
        "# Définir le modèle\n",
        "model_CNN_abstract = Sequential()\n",
        "model_CNN_abstract.add(Embedding(embedding_matrix_abstract.shape[0], embedding_matrix_abstract.shape[1], \n",
        "                       input_length = INPUT_LENGTH_ABSTRACT, \n",
        "                       weights=[embedding_matrix_abstract], \n",
        "                       trainable=True))\n",
        "model_CNN_abstract.add(Conv1D(filters = FILTERS, kernel_size = KERNEL_SIZE))\n",
        "model_CNN_abstract.add(BatchNormalization(axis=-1))\n",
        "model_CNN_abstract.add(Activation('relu'))\n",
        "model_CNN_abstract.add(Dropout(0.1))\n",
        "model_CNN_abstract.add(GlobalMaxPooling1D())\n",
        "model_CNN_abstract.add(Dense(OUTPUT))\n",
        "model_CNN_abstract.add(Activation('softmax'))\n",
        "print(model_CNN_abstract.summary())\n",
        "\n",
        "# Compiler le modèle\n",
        "model_CNN_abstract.compile(loss='sparse_categorical_crossentropy', optimizer='adam', metrics=['accuracy'])\n",
        "history = model_CNN_abstract.fit(X_train_abstract_seq, Y_train_id,  epochs = 15,  verbose = VERBOSE, \n",
        "                                 validation_split = VALIDATION_SPLIT, batch_size = BATCH_SIZE)\n",
        "score = model_CNN_abstract.evaluate(X_test_abstract_seq, Y_test_id)\n",
        "print('Test score:', score[0])\n",
        "print('Test accuracy:', score[1])"
      ],
      "execution_count": 0,
      "outputs": [
        {
          "output_type": "stream",
          "text": [
            "Model: \"sequential_8\"\n",
            "_________________________________________________________________\n",
            "Layer (type)                 Output Shape              Param #   \n",
            "=================================================================\n",
            "embedding_8 (Embedding)      (None, 1200, 300)         12193200  \n",
            "_________________________________________________________________\n",
            "conv1d_3 (Conv1D)            (None, 1198, 200)         180200    \n",
            "_________________________________________________________________\n",
            "batch_normalization_3 (Batch (None, 1198, 200)         800       \n",
            "_________________________________________________________________\n",
            "activation_9 (Activation)    (None, 1198, 200)         0         \n",
            "_________________________________________________________________\n",
            "dropout_8 (Dropout)          (None, 1198, 200)         0         \n",
            "_________________________________________________________________\n",
            "global_max_pooling1d_3 (Glob (None, 200)               0         \n",
            "_________________________________________________________________\n",
            "dense_7 (Dense)              (None, 97)                19497     \n",
            "_________________________________________________________________\n",
            "activation_10 (Activation)   (None, 97)                0         \n",
            "=================================================================\n",
            "Total params: 12,393,697\n",
            "Trainable params: 12,393,297\n",
            "Non-trainable params: 400\n",
            "_________________________________________________________________\n",
            "None\n",
            "Train on 6400 samples, validate on 1600 samples\n",
            "Epoch 1/15\n",
            "6400/6400 [==============================] - 6s 953us/step - loss: 7.4284 - acc: 0.1984 - val_loss: 5.0449 - val_acc: 0.2706\n",
            "Epoch 2/15\n",
            "6400/6400 [==============================] - 4s 581us/step - loss: 4.1939 - acc: 0.4705 - val_loss: 4.7584 - val_acc: 0.3075\n",
            "Epoch 3/15\n",
            "6400/6400 [==============================] - 4s 581us/step - loss: 3.4430 - acc: 0.6723 - val_loss: 4.7032 - val_acc: 0.3244\n",
            "Epoch 4/15\n",
            "6400/6400 [==============================] - 4s 579us/step - loss: 3.0305 - acc: 0.7889 - val_loss: 4.6824 - val_acc: 0.3262\n",
            "Epoch 5/15\n",
            "6400/6400 [==============================] - 4s 582us/step - loss: 2.8778 - acc: 0.8227 - val_loss: 4.6735 - val_acc: 0.3425\n",
            "Epoch 6/15\n",
            "6400/6400 [==============================] - 4s 580us/step - loss: 2.8349 - acc: 0.8261 - val_loss: 4.6786 - val_acc: 0.3356\n",
            "Epoch 7/15\n",
            "6400/6400 [==============================] - 4s 581us/step - loss: 2.8198 - acc: 0.8263 - val_loss: 4.6860 - val_acc: 0.3375\n",
            "Epoch 8/15\n",
            "6400/6400 [==============================] - 4s 582us/step - loss: 2.8131 - acc: 0.8264 - val_loss: 4.6937 - val_acc: 0.3406\n",
            "Epoch 9/15\n",
            "6400/6400 [==============================] - 4s 582us/step - loss: 2.8095 - acc: 0.8264 - val_loss: 4.7084 - val_acc: 0.3475\n",
            "Epoch 10/15\n",
            "6400/6400 [==============================] - 4s 583us/step - loss: 2.8062 - acc: 0.8264 - val_loss: 4.7206 - val_acc: 0.3456\n",
            "Epoch 11/15\n",
            "6400/6400 [==============================] - 4s 583us/step - loss: 2.7641 - acc: 0.8273 - val_loss: 4.7340 - val_acc: 0.3400\n",
            "Epoch 12/15\n",
            "6400/6400 [==============================] - 4s 583us/step - loss: 2.7468 - acc: 0.8302 - val_loss: 4.7503 - val_acc: 0.3375\n",
            "Epoch 13/15\n",
            "6400/6400 [==============================] - 4s 579us/step - loss: 2.7416 - acc: 0.8303 - val_loss: 4.7397 - val_acc: 0.3494\n",
            "Epoch 14/15\n",
            "6400/6400 [==============================] - 4s 582us/step - loss: 2.7402 - acc: 0.8303 - val_loss: 4.7540 - val_acc: 0.3456\n",
            "Epoch 15/15\n",
            "6400/6400 [==============================] - 4s 581us/step - loss: 2.7395 - acc: 0.8303 - val_loss: 4.7588 - val_acc: 0.3488\n",
            "2000/2000 [==============================] - 0s 165us/step\n",
            "Test score: 4.771181529998779\n",
            "Test accuracy: 0.3435\n"
          ],
          "name": "stdout"
        }
      ]
    }
  ]
}